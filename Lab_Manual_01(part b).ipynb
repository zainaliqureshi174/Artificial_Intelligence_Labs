{
 "cells": [
  {
   "cell_type": "markdown",
   "id": "f0d6e310",
   "metadata": {},
   "source": [
    "### Tuple, Dictionary , Class, numpy, lamda function\n"
   ]
  },
  {
   "cell_type": "markdown",
   "id": "1fe21c05",
   "metadata": {},
   "source": [
    "1. Create Python Lists"
   ]
  },
  {
   "cell_type": "code",
   "execution_count": 2,
   "id": "e4d9675b",
   "metadata": {},
   "outputs": [
    {
     "name": "stdout",
     "output_type": "stream",
     "text": [
      "[10.0, 16.0, 10.0]\n"
     ]
    }
   ],
   "source": [
    "# --list of floats\n",
    "areas = [10.0, 16.0, 10.0]\n",
    "print(areas)"
   ]
  },
  {
   "cell_type": "code",
   "execution_count": 3,
   "id": "2f85150a",
   "metadata": {},
   "outputs": [
    {
     "name": "stdout",
     "output_type": "stream",
     "text": [
      "['hall', 10.0, 'bath', 16.0, 'bed', 10.0]\n"
     ]
    }
   ],
   "source": [
    "# --list with mixed data types\n",
    "areas = [\"hall\", 10.0, \"bath\" , 16.0 , \"bed\", 10.0]\n",
    "print(areas)"
   ]
  },
  {
   "cell_type": "code",
   "execution_count": 4,
   "id": "dc10f9e5",
   "metadata": {},
   "outputs": [
    {
     "name": "stdout",
     "output_type": "stream",
     "text": [
      "['hall', 10.0, 'bath', 16.0, 'bed', 10.0, [11.0, 12.0]]\n"
     ]
    }
   ],
   "source": [
    "# --nested list\n",
    "# a. list as an item \n",
    "\n",
    "garage_area = [11.0,12.0]\n",
    "areas = [\"hall\", 10.0, \"bath\" , 16.0 , \"bed\", 10.0 , garage_area]\n",
    "print(areas)"
   ]
  },
  {
   "cell_type": "code",
   "execution_count": 5,
   "id": "2f9a9ca7",
   "metadata": {},
   "outputs": [
    {
     "name": "stdout",
     "output_type": "stream",
     "text": [
      "[[11.0, 12.0], [13.0, 15.0], [16.0, 19.0, 12.0]]\n"
     ]
    }
   ],
   "source": [
    "# b. list of lists\n",
    "\n",
    "bedroom_area = [11.0 , 12.0]\n",
    "hallway_area = [13.0 , 15.0]\n",
    "pool_area = [16.0 , 19.0 , 12.0]\n",
    "\n",
    "areas = [bedroom_area , hallway_area , pool_area]\n",
    "print(areas)"
   ]
  },
  {
   "cell_type": "markdown",
   "id": "46aca0bc",
   "metadata": {},
   "source": [
    "2. Access List Elements"
   ]
  },
  {
   "cell_type": "code",
   "execution_count": 6,
   "id": "70a4deed",
   "metadata": {},
   "outputs": [
    {
     "name": "stdout",
     "output_type": "stream",
     "text": [
      "0\n"
     ]
    }
   ],
   "source": [
    "# -- List index\n",
    "numbers = [0, 1, 2, 3, 4, 5, 6, 7]\n",
    "\n",
    "print(numbers[0])"
   ]
  },
  {
   "cell_type": "code",
   "execution_count": 7,
   "id": "f847da49",
   "metadata": {},
   "outputs": [
    {
     "name": "stdout",
     "output_type": "stream",
     "text": [
      "0\n"
     ]
    }
   ],
   "source": [
    "# -- Nested List indexing\n",
    "\n",
    "numbers2d = [[0,1],[2,3],[3,5]]\n",
    "\n",
    "print(numbers2d[0][0])"
   ]
  },
  {
   "cell_type": "code",
   "execution_count": 8,
   "id": "abce0dbf",
   "metadata": {},
   "outputs": [
    {
     "name": "stdout",
     "output_type": "stream",
     "text": [
      "3\n"
     ]
    }
   ],
   "source": [
    "# -- Negative indexing\n",
    "print(numbers[-5])"
   ]
  },
  {
   "cell_type": "code",
   "execution_count": 16,
   "id": "8a79e668",
   "metadata": {},
   "outputs": [
    {
     "name": "stdout",
     "output_type": "stream",
     "text": [
      "[2, 3, 4, 5]\n",
      "[3, 4, 5, 6, 7]\n",
      "[0, 1, 2, 3, 4, 5, 6, 7]\n"
     ]
    }
   ],
   "source": [
    "#----2. List Slicing Elements ----\n",
    "\n",
    "print(numbers[2:6])\n",
    "\n",
    "print(numbers[3:])\n",
    "\n",
    "print(numbers[:])\n",
    "\n"
   ]
  },
  {
   "cell_type": "markdown",
   "id": "46107aac",
   "metadata": {},
   "source": [
    "3. Mutable Lists"
   ]
  },
  {
   "cell_type": "code",
   "execution_count": 17,
   "id": "32c0fd81",
   "metadata": {},
   "outputs": [
    {
     "name": "stdout",
     "output_type": "stream",
     "text": [
      "[0, 2, 4, 8]\n"
     ]
    }
   ],
   "source": [
    "\n",
    "even = [3 , 5 , 7 , 11]\n",
    "\n",
    "even[0] = 0\n",
    "\n",
    "even[1:] = [2,4,8]\n",
    "\n",
    "print(even)"
   ]
  },
  {
   "cell_type": "markdown",
   "id": "e1499dd9",
   "metadata": {},
   "source": [
    "4. Concatenating and repeating lists"
   ]
  },
  {
   "cell_type": "code",
   "execution_count": 9,
   "id": "c29c83c9",
   "metadata": {},
   "outputs": [
    {
     "name": "stdout",
     "output_type": "stream",
     "text": [
      "[1, 3, 5, 9, 7, 5]\n",
      "['re', 're', 're']\n"
     ]
    }
   ],
   "source": [
    "odd = [1, 3, 5]\n",
    "\n",
    "print(odd + [9, 7, 5])\n",
    "\n",
    "print([\"re\"] * 3)"
   ]
  },
  {
   "cell_type": "markdown",
   "id": "5ce4e241",
   "metadata": {},
   "source": [
    "5. List Methods "
   ]
  },
  {
   "cell_type": "code",
   "execution_count": 11,
   "id": "67794d7b",
   "metadata": {},
   "outputs": [
    {
     "name": "stdout",
     "output_type": "stream",
     "text": [
      "[3, 5, 7, 11, 12, [14, 16]]\n"
     ]
    }
   ],
   "source": [
    "even = [3 , 5 , 7 , 11]\n",
    "\n",
    "# append() 1 item\n",
    "even.append(12)\n",
    "even.append([14,16]) #will be added as list\n",
    "\n",
    "print(even)"
   ]
  },
  {
   "cell_type": "code",
   "execution_count": 10,
   "id": "e2c4d887",
   "metadata": {},
   "outputs": [
    {
     "name": "stdout",
     "output_type": "stream",
     "text": [
      "[3, 5, 7, 11, 12, [14, 16]]\n",
      "[3, 5, 7, 11, 12, [14, 16], 14, 16, 18]\n",
      "[1, 3, 9]\n"
     ]
    }
   ],
   "source": [
    "# extend() add more items\n",
    "# even.append([14,16,18])\n",
    "even.extend([14,16,18])\n",
    "print(even)\n",
    "\n",
    "#insert() 1 or more at a position\n",
    "odd = [1, 9]\n",
    "odd.insert(1,3)\n",
    "\n",
    "print(odd)\n",
    "\n",
    "#odd[2:2] = [5, 7]"
   ]
  },
  {
   "cell_type": "markdown",
   "id": "c655c3e9",
   "metadata": {},
   "source": [
    "Tuple"
   ]
  },
  {
   "cell_type": "code",
   "execution_count": 1,
   "id": "21a7a8d1",
   "metadata": {},
   "outputs": [
    {
     "name": "stdout",
     "output_type": "stream",
     "text": [
      "()\n"
     ]
    }
   ],
   "source": [
    "# Different types of tuples\n",
    "\n",
    "#  --Empty tuple\n",
    "my_tuple = ()\n",
    "print(my_tuple)"
   ]
  },
  {
   "cell_type": "code",
   "execution_count": 2,
   "id": "39719226",
   "metadata": {},
   "outputs": [
    {
     "name": "stdout",
     "output_type": "stream",
     "text": [
      "(1, 2, 3)\n"
     ]
    }
   ],
   "source": [
    "# -- Tuple having integers\n",
    "my_tuple = (1, 2, 3)\n",
    "print(my_tuple)"
   ]
  },
  {
   "cell_type": "code",
   "execution_count": 3,
   "id": "c35d13d0",
   "metadata": {},
   "outputs": [
    {
     "name": "stdout",
     "output_type": "stream",
     "text": [
      "(1, 'Hello', 3.4)\n"
     ]
    }
   ],
   "source": [
    "# -- tuple with mixed datatypes\n",
    "my_tuple = (1, \"Hello\", 3.4)\n",
    "print(my_tuple)"
   ]
  },
  {
   "cell_type": "code",
   "execution_count": 4,
   "id": "e69991a2",
   "metadata": {},
   "outputs": [
    {
     "name": "stdout",
     "output_type": "stream",
     "text": [
      "('mouse', [8, 4, 6], (1, 2, 3))\n"
     ]
    }
   ],
   "source": [
    "# -- nested tuple\n",
    "my_tuple = (\"mouse\", [8, 4, 6], (1, 2, 3))\n",
    "print(my_tuple)"
   ]
  },
  {
   "cell_type": "code",
   "execution_count": 5,
   "id": "7006fa0d",
   "metadata": {},
   "outputs": [
    {
     "name": "stdout",
     "output_type": "stream",
     "text": [
      "<class 'str'>\n"
     ]
    }
   ],
   "source": [
    "# -- one element tupple ? Possible ?\n",
    "\n",
    "my_tuple = (\"hello\")\n",
    "print(type(my_tuple))  # <class 'str'>"
   ]
  },
  {
   "cell_type": "code",
   "execution_count": 6,
   "id": "e5415d8c",
   "metadata": {},
   "outputs": [
    {
     "name": "stdout",
     "output_type": "stream",
     "text": [
      "<class 'tuple'>\n"
     ]
    }
   ],
   "source": [
    "# Creating a tuple having one element\n",
    "my_tuple = (\"hello\",)\n",
    "print(type(my_tuple))  # <class 'tuple'>"
   ]
  },
  {
   "cell_type": "code",
   "execution_count": 7,
   "id": "8abe046c",
   "metadata": {},
   "outputs": [
    {
     "name": "stdout",
     "output_type": "stream",
     "text": [
      "<class 'tuple'>\n"
     ]
    }
   ],
   "source": [
    "# Parentheses is optional\n",
    "my_tuple = \"hello\",\n",
    "print(type(my_tuple))  # <class 'tuple'>\n",
    "\n",
    "#NOPE!\n",
    "\n"
   ]
  },
  {
   "cell_type": "markdown",
   "id": "15c14630",
   "metadata": {},
   "source": [
    "2. Tuple packing and unpacking"
   ]
  },
  {
   "cell_type": "code",
   "execution_count": 8,
   "id": "c05b3b0d",
   "metadata": {},
   "outputs": [
    {
     "name": "stdout",
     "output_type": "stream",
     "text": [
      "(3, 4.6, 'dog', 1)\n",
      "3\n",
      "4.6\n",
      "dog\n",
      "1\n"
     ]
    }
   ],
   "source": [
    "#The process of assigning values to a tuple is known as packing.\n",
    "\n",
    "#A tuple can also be created without using parentheses\n",
    "my_tuple = 3, 4.6, \"dog\",1\n",
    "print(my_tuple)\n",
    "\n",
    "# tuple unpacking is also possible\n",
    "a, b, c,d = my_tuple\n",
    "\n",
    "print(a)      # 3\n",
    "print(b)      # 4.6\n",
    "print(c)      # dog\n",
    "print(d)      # 1"
   ]
  },
  {
   "cell_type": "markdown",
   "id": "de0bd710",
   "metadata": {},
   "source": [
    "3. Access Tuple Elements"
   ]
  },
  {
   "cell_type": "code",
   "execution_count": 13,
   "id": "35360a51",
   "metadata": {},
   "outputs": [
    {
     "name": "stdout",
     "output_type": "stream",
     "text": [
      "p\n",
      "t\n"
     ]
    }
   ],
   "source": [
    "# -- Indexing\n",
    "my_tuple = ('p','e','r','m','i','t')\n",
    "print(my_tuple[0])   # 'p' \n",
    "print(my_tuple[5])   # 't'"
   ]
  },
  {
   "cell_type": "code",
   "execution_count": 15,
   "id": "1591b05f",
   "metadata": {},
   "outputs": [],
   "source": [
    "# IndexError: list index out of range\n",
    "#print(my_tuple[6])"
   ]
  },
  {
   "cell_type": "code",
   "execution_count": 20,
   "id": "470e067f",
   "metadata": {},
   "outputs": [],
   "source": [
    "# -- Index must be an integer\n",
    "# TypeError: list indices must be integers, not float\n",
    "# my_tuple[2.0]"
   ]
  },
  {
   "cell_type": "code",
   "execution_count": 17,
   "id": "9b7726f3",
   "metadata": {},
   "outputs": [
    {
     "name": "stdout",
     "output_type": "stream",
     "text": [
      "s\n",
      "4\n"
     ]
    }
   ],
   "source": [
    "# -- nested tuple\n",
    "n_tuple = (\"mouse\", [8, 4, 6], (1, 2, 3))\n",
    "\n",
    "print(n_tuple[0][3])       # 's'\n",
    "print(n_tuple[1][1])       # 4"
   ]
  },
  {
   "cell_type": "code",
   "execution_count": 21,
   "id": "540c2ad7",
   "metadata": {},
   "outputs": [
    {
     "name": "stdout",
     "output_type": "stream",
     "text": [
      "t\n",
      "p\n"
     ]
    }
   ],
   "source": [
    "# -- Negative Indexing\n",
    "my_tuple = ('p', 'e', 'r', 'm', 'i', 't')\n",
    "\n",
    "\n",
    "print(my_tuple[-1])\n",
    "\n",
    "\n",
    "print(my_tuple[-6])\n"
   ]
  },
  {
   "cell_type": "markdown",
   "id": "98387196",
   "metadata": {},
   "source": [
    "4. Slicing"
   ]
  },
  {
   "cell_type": "code",
   "execution_count": 22,
   "id": "3e94cd8f",
   "metadata": {},
   "outputs": [
    {
     "name": "stdout",
     "output_type": "stream",
     "text": [
      "('r', 'o', 'g')\n"
     ]
    }
   ],
   "source": [
    "# Accessing tuple elements using slicing\n",
    "my_tuple = ('p','r','o','g','r','a','m','i','z')\n",
    "\n",
    "# elements 2nd to 4th\n",
    "# Output: ('r', 'o', 'g')\n",
    "print(my_tuple[1:4])"
   ]
  },
  {
   "cell_type": "code",
   "execution_count": 6,
   "id": "dbb8c4ad",
   "metadata": {},
   "outputs": [
    {
     "ename": "TypeError",
     "evalue": "'tuple' object does not support item assignment",
     "output_type": "error",
     "traceback": [
      "\u001b[1;31m---------------------------------------------------------------------------\u001b[0m",
      "\u001b[1;31mTypeError\u001b[0m                                 Traceback (most recent call last)",
      "\u001b[1;32m~\\AppData\\Local\\Temp\\ipykernel_8024\\2237933414.py\u001b[0m in \u001b[0;36m<module>\u001b[1;34m\u001b[0m\n\u001b[0;32m      5\u001b[0m \u001b[1;33m\u001b[0m\u001b[0m\n\u001b[0;32m      6\u001b[0m \u001b[1;31m# TypeError: 'tuple' object does not support item assignment\u001b[0m\u001b[1;33m\u001b[0m\u001b[1;33m\u001b[0m\u001b[0m\n\u001b[1;32m----> 7\u001b[1;33m \u001b[0mmy_tuple\u001b[0m\u001b[1;33m[\u001b[0m\u001b[1;36m1\u001b[0m\u001b[1;33m]\u001b[0m \u001b[1;33m=\u001b[0m \u001b[1;36m9\u001b[0m\u001b[1;33m\u001b[0m\u001b[1;33m\u001b[0m\u001b[0m\n\u001b[0m",
      "\u001b[1;31mTypeError\u001b[0m: 'tuple' object does not support item assignment"
     ]
    }
   ],
   "source": [
    "# --- 5. Mutable Tupple\n",
    "\n",
    "# Changing tuple values\n",
    "my_tuple = (4, 2, 3, [6, 5])\n",
    "\n",
    "# TypeError: 'tuple' object does not support item assignment\n",
    "my_tuple[1] = 9"
   ]
  },
  {
   "cell_type": "code",
   "execution_count": 7,
   "id": "fd1257f0",
   "metadata": {},
   "outputs": [
    {
     "name": "stdout",
     "output_type": "stream",
     "text": [
      "(4, 2, 3, [6, 9])\n",
      "('p', 'r', 'o', 'g', 'r', 'a', 'm', 'i', 'z')\n"
     ]
    }
   ],
   "source": [
    "\n",
    "# However, item of mutable element can be changed\n",
    "my_tuple[3][1] = 9    # Output: (4, 2, 3, [9, 5])\n",
    "print(my_tuple)\n",
    "\n",
    "# Tuples can be reassigned\n",
    "my_tuple = ('p', 'r', 'o', 'g', 'r', 'a', 'm', 'i', 'z')\n",
    "\n",
    "# Output: ('p', 'r', 'o', 'g', 'r', 'a', 'm', 'i', 'z')\n",
    "print(my_tuple)"
   ]
  },
  {
   "cell_type": "code",
   "execution_count": 25,
   "id": "229c5140",
   "metadata": {},
   "outputs": [
    {
     "name": "stdout",
     "output_type": "stream",
     "text": [
      "(1, 2, 3, 4, 5, 6)\n",
      "('Repeat', 'Repeat', 'Repeat')\n"
     ]
    }
   ],
   "source": [
    "# --- 6. Operations on Tupples\n",
    "# Concatenation\n",
    "# Output: (1, 2, 3, 4, 5, 6)\n",
    "print((1, 2, 3) + (4, 5, 6))\n",
    "\n",
    "# Repeat\n",
    "# Output: ('Repeat', 'Repeat', 'Repeat')\n",
    "print((\"Repeat\",) * 3)"
   ]
  },
  {
   "cell_type": "code",
   "execution_count": null,
   "id": "52b23496",
   "metadata": {},
   "outputs": [],
   "source": [
    "# ---- 7 .Deleting a Tupple\n",
    "# Deleting tuples\n",
    "my_tuple = ('p', 'r', 'o', 'g', 'r', 'a', 'm', 'i', 'z')\n",
    "\n",
    "# can't delete items\n",
    "# TypeError: 'tuple' object doesn't support item deletion\n",
    "# del my_tuple[3]\n",
    "\n",
    "# Can delete an entire tuple\n",
    "del my_tuple\n",
    "\n",
    "# NameError: name 'my_tuple' is not defined\n",
    "print(my_tuple)"
   ]
  },
  {
   "cell_type": "code",
   "execution_count": null,
   "id": "18ea6e9f",
   "metadata": {},
   "outputs": [],
   "source": [
    "#--------------------------------#\n",
    "#        LIST VS TUPPLE          #\n",
    "#--------------------------------#\n",
    "\n",
    "# list mutable \n",
    "# tupple not \n",
    "# perf : tupple > list\n",
    "\n",
    "#Since tuples are immutable, iterating through a tuple is faster than with list. So there is a slight performance boost.\n",
    "#Tuples that contain immutable elements can be used as a key for a dictionary. With lists, this is not possible.\n",
    "\n",
    "\n",
    "#No better option..depends upin usage"
   ]
  },
  {
   "cell_type": "markdown",
   "id": "46980e1e",
   "metadata": {},
   "source": [
    " ## Dictionary "
   ]
  },
  {
   "cell_type": "code",
   "execution_count": 12,
   "id": "aac0b944",
   "metadata": {},
   "outputs": [],
   "source": [
    "# 1 . Creating Python Dictionary"
   ]
  },
  {
   "cell_type": "code",
   "execution_count": 8,
   "id": "7f3914c0",
   "metadata": {},
   "outputs": [],
   "source": [
    "# -- empty dictionary\n",
    "my_dict = {}\n"
   ]
  },
  {
   "cell_type": "code",
   "execution_count": 9,
   "id": "3068debe",
   "metadata": {},
   "outputs": [],
   "source": [
    "# -- dictionary with integer keys\n",
    "my_dict = {1: 'apple', 2: 'ball'}"
   ]
  },
  {
   "cell_type": "code",
   "execution_count": 10,
   "id": "146a9f43",
   "metadata": {},
   "outputs": [],
   "source": [
    "# -- dictionary with mixed keys\n",
    "my_dict = {'name': 'John', 1: [2, 4, 3]}"
   ]
  },
  {
   "cell_type": "code",
   "execution_count": 11,
   "id": "5879ba2c",
   "metadata": {},
   "outputs": [],
   "source": [
    "\n",
    "# -- using dict()\n",
    "my_dict = dict({1:'apple', 2:'ball'})"
   ]
  },
  {
   "cell_type": "code",
   "execution_count": 13,
   "id": "9edfbc8e",
   "metadata": {},
   "outputs": [
    {
     "name": "stdout",
     "output_type": "stream",
     "text": [
      "(2, 'ball')\n"
     ]
    }
   ],
   "source": [
    "# -- from sequence having each item as a pair\n",
    "my_dict = dict([(1,[(1,'apple'), (2,'ball')]), (2,'ball')])\n",
    "print(my_dict[1][1])\n",
    "\n",
    "#As you can see from above, we can also create a dictionary using the built-in dict() function."
   ]
  },
  {
   "cell_type": "markdown",
   "id": "4ec7c21f",
   "metadata": {},
   "source": [
    "2 .Accessing Elements from Dictionary"
   ]
  },
  {
   "cell_type": "code",
   "execution_count": null,
   "id": "910ea0a8",
   "metadata": {},
   "outputs": [],
   "source": [
    "\n",
    "# get vs [] for retrieving elements\n",
    "my_dict = {'name': 'Jack', 'age': 26}\n",
    "\n",
    "# Output: Jack\n",
    "print(my_dict['name'])\n",
    "\n",
    "# Output: 26\n",
    "print(my_dict.get('age'))\n",
    "\n",
    "# Trying to access keys which doesn't exist throws error\n",
    "# Output None\n",
    "print(my_dict.get('address'))\n",
    "\n",
    "# KeyError\n",
    "print(my_dict['address'])"
   ]
  },
  {
   "cell_type": "code",
   "execution_count": 36,
   "id": "b293dc71",
   "metadata": {},
   "outputs": [],
   "source": [
    "# ---3. Changing and Adding Dictionary elements\n",
    "# Changing and adding Dictionary Elements\n",
    "my_dict = {'name': 'Jack', 'age': 26}\n"
   ]
  },
  {
   "cell_type": "code",
   "execution_count": 37,
   "id": "baad11d0",
   "metadata": {},
   "outputs": [
    {
     "name": "stdout",
     "output_type": "stream",
     "text": [
      "{'name': 'Jack', 'age': 27}\n"
     ]
    }
   ],
   "source": [
    "# update value\n",
    "my_dict['age'] = 27\n",
    "\n",
    "#Output: {'age': 27, 'name': 'Jack'}\n",
    "print(my_dict)\n"
   ]
  },
  {
   "cell_type": "code",
   "execution_count": 38,
   "id": "77cd95e3",
   "metadata": {},
   "outputs": [
    {
     "name": "stdout",
     "output_type": "stream",
     "text": [
      "{'name': 'Jack', 'age': 27, 'address': 'Downtown'}\n"
     ]
    }
   ],
   "source": [
    "# add item\n",
    "my_dict['address'] = 'Downtown'\n",
    "\n",
    "# Output: {'address': 'Downtown', 'age': 27, 'name': 'Jack'}\n",
    "print(my_dict)"
   ]
  },
  {
   "cell_type": "code",
   "execution_count": 39,
   "id": "5685e4da",
   "metadata": {},
   "outputs": [
    {
     "name": "stdout",
     "output_type": "stream",
     "text": [
      "16\n"
     ]
    }
   ],
   "source": [
    "# ---4. Removing elements from Dictionary\n",
    "# Removing elements from a dictionary\n",
    "\n",
    "# create a dictionary\n",
    "squares = {1: 1, 2: 4, 3: 9, 4: 16, 5: 25}\n",
    "\n",
    "# remove a particular item, returns its value\n",
    "# Output: 16\n",
    "print(squares.pop(4))"
   ]
  },
  {
   "cell_type": "code",
   "execution_count": 29,
   "id": "0df4ed06",
   "metadata": {},
   "outputs": [
    {
     "name": "stdout",
     "output_type": "stream",
     "text": [
      "{1: 1, 2: 4, 3: 9, 5: 25}\n"
     ]
    }
   ],
   "source": [
    "# Output: {1: 1, 2: 4, 3: 9, 5: 25}\n",
    "print(squares)"
   ]
  },
  {
   "cell_type": "code",
   "execution_count": 40,
   "id": "b21bd8df",
   "metadata": {},
   "outputs": [
    {
     "name": "stdout",
     "output_type": "stream",
     "text": [
      "(5, 25)\n"
     ]
    }
   ],
   "source": [
    "# remove an arbitrary item, return (key,value)\n",
    "# Output: (5, 25)\n",
    "print(squares.popitem())"
   ]
  },
  {
   "cell_type": "code",
   "execution_count": 41,
   "id": "f495bf96",
   "metadata": {},
   "outputs": [
    {
     "name": "stdout",
     "output_type": "stream",
     "text": [
      "{1: 1, 2: 4, 3: 9}\n",
      "{}\n"
     ]
    }
   ],
   "source": [
    "# Output: {1: 1, 2: 4, 3: 9}\n",
    "print(squares)\n",
    "\n",
    "# remove all items\n",
    "squares.clear()\n",
    "\n",
    "# Output: {}\n",
    "print(squares)\n"
   ]
  },
  {
   "cell_type": "code",
   "execution_count": 42,
   "id": "893a920e",
   "metadata": {},
   "outputs": [],
   "source": [
    "\n",
    "# delete the dictionary itself\n",
    "del squares\n",
    "\n"
   ]
  },
  {
   "cell_type": "markdown",
   "id": "b3a3a7da",
   "metadata": {},
   "source": [
    "Lambda Functions"
   ]
  },
  {
   "cell_type": "code",
   "execution_count": 14,
   "id": "ced3d893",
   "metadata": {},
   "outputs": [
    {
     "data": {
      "text/plain": [
       "15"
      ]
     },
     "execution_count": 14,
     "metadata": {},
     "output_type": "execute_result"
    }
   ],
   "source": [
    "# simple function\n",
    "def add(a):\n",
    "  return a + 10\n",
    "\n",
    "add(5)"
   ]
  },
  {
   "cell_type": "markdown",
   "id": "057a7cb9",
   "metadata": {},
   "source": [
    "A lambda function is a small anonymous function.\n",
    "\n",
    "A lambda function can take any number of arguments, but can only have one expression."
   ]
  },
  {
   "cell_type": "code",
   "execution_count": 15,
   "id": "41ecd3a1",
   "metadata": {},
   "outputs": [
    {
     "data": {
      "text/plain": [
       "15"
      ]
     },
     "execution_count": 15,
     "metadata": {},
     "output_type": "execute_result"
    }
   ],
   "source": [
    "x = lambda a : a + 10\n",
    "x(5)"
   ]
  },
  {
   "cell_type": "code",
   "execution_count": 16,
   "id": "ebb4901e",
   "metadata": {},
   "outputs": [
    {
     "data": {
      "text/plain": [
       "30"
      ]
     },
     "execution_count": 16,
     "metadata": {},
     "output_type": "execute_result"
    }
   ],
   "source": [
    "x = lambda a, b : a * b\n",
    "x(5, 6)"
   ]
  },
  {
   "cell_type": "markdown",
   "id": "8b0f1f1d",
   "metadata": {},
   "source": [
    "Python Class"
   ]
  },
  {
   "cell_type": "code",
   "execution_count": 17,
   "id": "4ff24ab4",
   "metadata": {},
   "outputs": [],
   "source": [
    "class Person:\n",
    "  def __init__(self, name, age):\n",
    "    self.name = name\n",
    "    self.age = age\n",
    "\n",
    "  def print_name(self):\n",
    "    print(self.name)"
   ]
  },
  {
   "cell_type": "code",
   "execution_count": 18,
   "id": "4ad97c7e",
   "metadata": {},
   "outputs": [
    {
     "name": "stdout",
     "output_type": "stream",
     "text": [
      "ali\n",
      "25\n",
      "ali\n"
     ]
    }
   ],
   "source": [
    "p1 = Person(\"ali\", 25)\n",
    "\n",
    "print(p1.name)\n",
    "print(p1.age)\n",
    "p1.print_name()"
   ]
  },
  {
   "cell_type": "markdown",
   "id": "b50cd90a",
   "metadata": {},
   "source": [
    "The `numpy` package (module) is used in almost all numerical computation using Python. It is a package that provide high-performance vector, matrix and higher-dimensional data structures for Python. It is implemented in C and Fortran so when calculations are vectorized (formulated with vectors and matrices), performance is very good. \n",
    "\n",
    "To use `numpy` you need to import the module, using for example:"
   ]
  },
  {
   "cell_type": "code",
   "execution_count": 19,
   "id": "8af09d05",
   "metadata": {},
   "outputs": [],
   "source": [
    "import numpy as np"
   ]
  },
  {
   "cell_type": "markdown",
   "id": "a9a6a88e",
   "metadata": {},
   "source": [
    "## Creating `numpy` arrays"
   ]
  },
  {
   "cell_type": "code",
   "execution_count": 20,
   "id": "e9bec628",
   "metadata": {},
   "outputs": [
    {
     "data": {
      "text/plain": [
       "array([1, 2, 3, 4])"
      ]
     },
     "execution_count": 20,
     "metadata": {},
     "output_type": "execute_result"
    }
   ],
   "source": [
    "# a vector: the argument to the array function is a Python list\n",
    "v = np.array([1,2,3,4])\n",
    "\n",
    "v"
   ]
  },
  {
   "cell_type": "code",
   "execution_count": 21,
   "id": "670b1298",
   "metadata": {},
   "outputs": [
    {
     "data": {
      "text/plain": [
       "array([[1., 2.],\n",
       "       [3., 4.]])"
      ]
     },
     "execution_count": 21,
     "metadata": {},
     "output_type": "execute_result"
    }
   ],
   "source": [
    "# a matrix: the argument to the array function is a nested Python list\n",
    "M = np.array([[1, 2], [3.0,4]])\n",
    "\n",
    "M"
   ]
  },
  {
   "cell_type": "markdown",
   "id": "b136508f",
   "metadata": {},
   "source": [
    "The `v` and `M` objects are both of the type `ndarray` that the `numpy` module provides."
   ]
  },
  {
   "cell_type": "code",
   "execution_count": 22,
   "id": "43fe0425",
   "metadata": {},
   "outputs": [
    {
     "data": {
      "text/plain": [
       "(numpy.ndarray, numpy.ndarray)"
      ]
     },
     "execution_count": 22,
     "metadata": {},
     "output_type": "execute_result"
    }
   ],
   "source": [
    "type(v), type(M)"
   ]
  },
  {
   "cell_type": "markdown",
   "id": "2f15183e",
   "metadata": {},
   "source": [
    "The difference between the `v` and `M` arrays is only their shapes. We can get information about the shape of an array by using the `ndarray.shape` property."
   ]
  },
  {
   "cell_type": "code",
   "execution_count": 23,
   "id": "17cc44ce",
   "metadata": {},
   "outputs": [
    {
     "data": {
      "text/plain": [
       "(4,)"
      ]
     },
     "execution_count": 23,
     "metadata": {},
     "output_type": "execute_result"
    }
   ],
   "source": [
    "v.shape"
   ]
  },
  {
   "cell_type": "code",
   "execution_count": 24,
   "id": "623de098",
   "metadata": {},
   "outputs": [
    {
     "data": {
      "text/plain": [
       "(2, 2)"
      ]
     },
     "execution_count": 24,
     "metadata": {},
     "output_type": "execute_result"
    }
   ],
   "source": [
    "M.shape"
   ]
  },
  {
   "cell_type": "markdown",
   "id": "4a71ea2f",
   "metadata": {},
   "source": [
    "The number of elements in the array is available through the `ndarray.size` property:"
   ]
  },
  {
   "cell_type": "code",
   "execution_count": 25,
   "id": "95754b8b",
   "metadata": {},
   "outputs": [
    {
     "data": {
      "text/plain": [
       "4"
      ]
     },
     "execution_count": 25,
     "metadata": {},
     "output_type": "execute_result"
    }
   ],
   "source": [
    "M.size"
   ]
  },
  {
   "cell_type": "markdown",
   "id": "8842b5db",
   "metadata": {},
   "source": [
    "Equivalently, we could use the function `numpy.shape` and `numpy.size`"
   ]
  },
  {
   "cell_type": "code",
   "execution_count": 26,
   "id": "cced2719",
   "metadata": {},
   "outputs": [
    {
     "data": {
      "text/plain": [
       "(2, 2)"
      ]
     },
     "execution_count": 26,
     "metadata": {},
     "output_type": "execute_result"
    }
   ],
   "source": [
    "np.shape(M)"
   ]
  },
  {
   "cell_type": "code",
   "execution_count": 27,
   "id": "47b658a3",
   "metadata": {},
   "outputs": [
    {
     "data": {
      "text/plain": [
       "4"
      ]
     },
     "execution_count": 27,
     "metadata": {},
     "output_type": "execute_result"
    }
   ],
   "source": [
    "np.size(M)"
   ]
  },
  {
   "cell_type": "code",
   "execution_count": 43,
   "id": "6973f2b3",
   "metadata": {},
   "outputs": [
    {
     "data": {
      "text/plain": [
       "array([[1, 0, 0, 0],\n",
       "       [0, 2, 0, 0],\n",
       "       [0, 0, 3, 0],\n",
       "       [0, 0, 0, 5]])"
      ]
     },
     "execution_count": 43,
     "metadata": {},
     "output_type": "execute_result"
    }
   ],
   "source": [
    "# a diagonal matrix\n",
    "np.diag([1,2,3,5])"
   ]
  },
  {
   "cell_type": "code",
   "execution_count": 44,
   "id": "1312fb28",
   "metadata": {},
   "outputs": [
    {
     "data": {
      "text/plain": [
       "array([[0, 0, 0, 1, 0, 0],\n",
       "       [0, 0, 0, 0, 2, 0],\n",
       "       [0, 0, 0, 0, 0, 3],\n",
       "       [0, 0, 0, 0, 0, 0],\n",
       "       [0, 0, 0, 0, 0, 0],\n",
       "       [0, 0, 0, 0, 0, 0]])"
      ]
     },
     "execution_count": 44,
     "metadata": {},
     "output_type": "execute_result"
    }
   ],
   "source": [
    "# diagonal with offset from the main diagonal\n",
    "np.diag([1,2,3], k=3) "
   ]
  },
  {
   "cell_type": "code",
   "execution_count": 45,
   "id": "0d50ffba",
   "metadata": {},
   "outputs": [
    {
     "data": {
      "text/plain": [
       "array([[0., 0., 0.],\n",
       "       [0., 0., 0.],\n",
       "       [0., 0., 0.]])"
      ]
     },
     "execution_count": 45,
     "metadata": {},
     "output_type": "execute_result"
    }
   ],
   "source": [
    "np.zeros((3,3))"
   ]
  },
  {
   "cell_type": "code",
   "execution_count": 46,
   "id": "69f6fc1d",
   "metadata": {},
   "outputs": [
    {
     "data": {
      "text/plain": [
       "array([[1., 1., 1.],\n",
       "       [1., 1., 1.],\n",
       "       [1., 1., 1.]])"
      ]
     },
     "execution_count": 46,
     "metadata": {},
     "output_type": "execute_result"
    }
   ],
   "source": [
    "np.ones((3,3))"
   ]
  }
 ],
 "metadata": {
  "kernelspec": {
   "display_name": "Python 3 (ipykernel)",
   "language": "python",
   "name": "python3"
  },
  "language_info": {
   "codemirror_mode": {
    "name": "ipython",
    "version": 3
   },
   "file_extension": ".py",
   "mimetype": "text/x-python",
   "name": "python",
   "nbconvert_exporter": "python",
   "pygments_lexer": "ipython3",
   "version": "3.11.4"
  }
 },
 "nbformat": 4,
 "nbformat_minor": 5
}
