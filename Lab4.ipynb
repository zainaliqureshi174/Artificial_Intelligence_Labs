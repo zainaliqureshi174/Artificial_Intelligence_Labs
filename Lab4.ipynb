{
 "cells": [
  {
   "cell_type": "markdown",
   "id": "ec73ab70",
   "metadata": {},
   "source": [
    "## Task1"
   ]
  },
  {
   "cell_type": "code",
   "execution_count": 12,
   "id": "9a174b68",
   "metadata": {},
   "outputs": [
    {
     "name": "stdout",
     "output_type": "stream",
     "text": [
      "Percept: {'location': 'B', 'status': 'DIRTY'}, Action: SUCK\n",
      "Percept: {'location': 'A', 'status': 'CLEAN'}, Action: RIGHT\n"
     ]
    }
   ],
   "source": [
    "# Environment Class for the environment\n",
    "class Environment:\n",
    "    def __init__(self, name):\n",
    "        self.name = name\n",
    "        self.status = \"CLEAN\"\n",
    "        \n",
    "\n",
    "class ReflexAgent:\n",
    "    def __init__(self):\n",
    "        self.locations = {\n",
    "            \"A\": Environment(\"A\"),\n",
    "            \"B\": Environment(\"B\"),\n",
    "        }\n",
    "\n",
    "    def reflex_agent_program(self, percept):\n",
    "        location = percept[\"location\"]\n",
    "        status = percept[\"status\"]\n",
    "\n",
    "        if status == \"DIRTY\":\n",
    "            return \"SUCK\"\n",
    "        elif status == \"CLEAN\":\n",
    "            if location == \"A\":\n",
    "                return \"RIGHT\"\n",
    "            elif location == \"B\":\n",
    "                return \"LEFT\"\n",
    "\n",
    "agent = ReflexAgent()\n",
    "\n",
    "# Location A is clean, location B is dirty\n",
    "percept = {\"location\": \"B\", \"status\": \"DIRTY\"}\n",
    "action = agent.reflex_agent_program(percept)\n",
    "print(f\"Percept: {percept}, Action: {action}\")\n",
    "\n",
    "percept = {\"location\": \"A\", \"status\": \"CLEAN\"}\n",
    "action = agent.reflex_agent_program(percept)\n",
    "print(f\"Percept: {percept}, Action: {action}\")\n"
   ]
  },
  {
   "cell_type": "markdown",
   "id": "9972ec0c",
   "metadata": {},
   "source": [
    "## Task2"
   ]
  },
  {
   "cell_type": "code",
   "execution_count": 1,
   "id": "fa4ca9e8",
   "metadata": {},
   "outputs": [],
   "source": [
    "import numpy as np\n",
    "import random"
   ]
  },
  {
   "cell_type": "code",
   "execution_count": 2,
   "id": "f4937839",
   "metadata": {},
   "outputs": [],
   "source": [
    "row = 0\n",
    "col = 0"
   ]
  },
  {
   "cell_type": "code",
   "execution_count": null,
   "id": "ecfd1c3d",
   "metadata": {},
   "outputs": [
    {
     "name": "stdout",
     "output_type": "stream",
     "text": [
      "Initial matrix:\n",
      "WALL DIRTY DIRTY \n",
      "DIRTY WALL CLEAN \n",
      "DIRTY WALL WALL \n",
      "Press Enter to move, or 'q' to quit: \n",
      "Agent Location: (0,2)\n",
      "Step: SUCK\n",
      "Updated Grid:\n",
      "WALL DIRTY CLEAN \n",
      "DIRTY WALL CLEAN \n",
      "DIRTY WALL WALL \n",
      "Score: 490\n",
      "Press Enter to move, or 'q' to quit: \n",
      "Agent Location: (2,0)\n",
      "Step: SUCK\n",
      "Updated Grid:\n",
      "WALL DIRTY CLEAN \n",
      "DIRTY WALL CLEAN \n",
      "CLEAN WALL WALL \n",
      "Score: 980\n"
     ]
    }
   ],
   "source": [
    "Score = 0\n",
    "\n",
    "def print_matrix(Grid):\n",
    "    labels = {0: \"CLEAN\", 1: \"DIRTY\", 2: \"WALL\"}\n",
    "    for row in Grid:\n",
    "        for cell in row:\n",
    "            print(labels[cell], end=\" \")\n",
    "        print(\"\")\n",
    "\n",
    "def is_valid_move(Grid, new_row, new_col):\n",
    "    return 0 <= new_row < 3 and 0 <= new_col < 3 and Grid[new_row][new_col] != 2\n",
    "\n",
    "def Get_Random_Location():\n",
    "    return random.randint(0,2), random.randint(0,2)\n",
    "\n",
    "def UpdateGrid(Grid, Row, Col):\n",
    "    Grid[Row][Col] = 0\n",
    "\n",
    "def Perform_Step(Grid, Row, Col):\n",
    "    global Score\n",
    "    print(f\"Agent Location: ({Row},{Col})\")\n",
    "    if is_valid_move(Grid, Row, Col):\n",
    "        if Grid[Row][Col] == 0:\n",
    "            print(\"Step: Already Cleaned\")\n",
    "            Score = Score - 10\n",
    "        elif Grid[Row][Col] == 1:\n",
    "            print(\"Step: SUCK\")\n",
    "            Score = Score + 500\n",
    "            Score = Score - 10\n",
    "            UpdateGrid(Grid, Row, Col)\n",
    "            print(\"Updated Grid:\")\n",
    "            print_matrix(Grid)\n",
    "        elif Grid[Row][Col] == 2:\n",
    "            Score = Score - 100\n",
    "            Score = Score - 10\n",
    "\n",
    "def Show_Score(Score):\n",
    "    print(f\"Score: {Score}\")\n",
    "\n",
    "def main():\n",
    "    global Score\n",
    "    Grid = np.random.randint(0,3,9).reshape(3,3)\n",
    "    print(\"Initial matrix:\")\n",
    "    print_matrix(Grid)\n",
    "\n",
    "    while True:\n",
    "        user_input = input(\"Press Enter to move, or 'q' to quit: \")\n",
    "        if user_input.lower() == 'q':\n",
    "            break\n",
    "        else:\n",
    "            row, col = Get_Random_Location()\n",
    "            Perform_Step(Grid, row, col)\n",
    "            Show_Score(Score)\n",
    "\n",
    "if __name__ == \"__main__\":\n",
    "    main()\n"
   ]
  },
  {
   "cell_type": "code",
   "execution_count": null,
   "id": "e4fce6da",
   "metadata": {},
   "outputs": [],
   "source": []
  },
  {
   "cell_type": "code",
   "execution_count": null,
   "id": "62521f8b",
   "metadata": {},
   "outputs": [],
   "source": []
  }
 ],
 "metadata": {
  "kernelspec": {
   "display_name": "Python 3 (ipykernel)",
   "language": "python",
   "name": "python3"
  },
  "language_info": {
   "codemirror_mode": {
    "name": "ipython",
    "version": 3
   },
   "file_extension": ".py",
   "mimetype": "text/x-python",
   "name": "python",
   "nbconvert_exporter": "python",
   "pygments_lexer": "ipython3",
   "version": "3.11.4"
  }
 },
 "nbformat": 4,
 "nbformat_minor": 5
}
