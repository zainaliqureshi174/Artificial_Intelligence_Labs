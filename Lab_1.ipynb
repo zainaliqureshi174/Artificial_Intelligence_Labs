{
 "cells": [
  {
   "cell_type": "markdown",
   "id": "8b15cf35",
   "metadata": {},
   "source": [
    "# Task1 (a)"
   ]
  },
  {
   "cell_type": "code",
   "execution_count": 7,
   "id": "3b7c4718",
   "metadata": {},
   "outputs": [
    {
     "name": "stdout",
     "output_type": "stream",
     "text": [
      "Enter Radius of the Circle:5\n",
      "Circumference of this Circle: 31.42\n"
     ]
    }
   ],
   "source": [
    "# Constant value of Pi:\n",
    "PI = 3.1415\n",
    "# Getting Radius from User:\n",
    "radius = float(input(\"Enter Radius of the Circle:\"))\n",
    "# Calculating Circumference:\n",
    "Circum = 2*PI*radius\n",
    "# Printing Results:\n",
    "print(f'Circumference of this Circle: {round(Circum, 2)}')\n",
    "\n",
    "\n",
    "\"\"\"\n",
    "import math\n",
    "\n",
    "# Get the radius input from the user\n",
    "radius = float(input(\"Enter the radius of the circle: \"))\n",
    "\n",
    "# Calculate the circumference\n",
    "circumference = 2 * math.pi * radius\n",
    "\n",
    "# Display the result\n",
    "print(f\"The circumference of the circle with radius {radius} is: {circumference:.4f}\")\n",
    "\"\"\""
   ]
  },
  {
   "cell_type": "markdown",
   "id": "da698d97",
   "metadata": {},
   "source": [
    "# Tasl1 (b)"
   ]
  },
  {
   "cell_type": "code",
   "execution_count": 6,
   "id": "98ae7826",
   "metadata": {},
   "outputs": [
    {
     "name": "stdout",
     "output_type": "stream",
     "text": [
      "Enter the total number of classes scheduled: 63\n",
      "Enter the total number of classes attended: 34\n",
      "Your attendance percentage is: 53.97%\n",
      "Sorry, your attendance is less than 85%. You are not allowed to sit in the exam.\n"
     ]
    }
   ],
   "source": [
    "# # Function to calculate and display the percentage:\n",
    "# def isAllowed(x, y):\n",
    "#     percentage = (x/y)*100\n",
    "#     print(f\"Your Percentage for attended Classes is: {percentage:.2f}\")\n",
    "\n",
    "# # Getting Values from User\n",
    "# Scheduled_Classes = int(input(\"Enter total number of classes scheduled by instructor:\"))\n",
    "# Attended_Classes = int(input(\"Classes You attended: \"))\n",
    "\n",
    "# # Function Calling\n",
    "# isAllowed(Attended_Classes, Scheduled_Classes)\n",
    "\n",
    "\n",
    "def isAllowed(total_classes_scheduled, total_classes_attended):\n",
    "    # Calculate the attendance percentage\n",
    "    attendance_percentage = (total_classes_attended / total_classes_scheduled) * 100\n",
    "\n",
    "    # Display the attendance percentage\n",
    "    print(f\"Your attendance percentage is: {attendance_percentage:.2f}%\")\n",
    "\n",
    "    # Check if the student is allowed to sit in the exam\n",
    "    if attendance_percentage >= 85:\n",
    "        print(\"You are allowed to sit in the exam.\")\n",
    "    else:\n",
    "        print(\"Sorry, your attendance is less than 85%. You are not allowed to sit in the exam.\")\n",
    "\n",
    "# Get input from the user\n",
    "total_classes_scheduled = int(input(\"Enter the total number of classes scheduled: \"))\n",
    "total_classes_attended = int(input(\"Enter the total number of classes attended: \"))\n",
    "\n",
    "# Call the isAllowed function with the provided values\n",
    "isAllowed(total_classes_scheduled, total_classes_attended)\n"
   ]
  },
  {
   "cell_type": "markdown",
   "id": "1a227c67",
   "metadata": {},
   "source": [
    "# Task2"
   ]
  },
  {
   "cell_type": "code",
   "execution_count": 8,
   "id": "887675bd",
   "metadata": {
    "scrolled": true
   },
   "outputs": [
    {
     "name": "stdout",
     "output_type": "stream",
     "text": [
      "Original Areas List: ['bedroom', 112.0, 'hallway', 113.5, 'bathroom', 189.5, 'kitchen', 789.0, 'living room', 230.2]\n",
      "Float Area List: [112.0, 113.5, 189.5, 789.0, 230.2]\n",
      "String Area List: ['bedroom', 'hallway', 'bathroom', 'kitchen', 'living room']\n",
      "\n",
      "Area of Bedroom along with its name: ['bedroom', 112.0]\n"
     ]
    }
   ],
   "source": [
    "# # Main list named Areas having all values:\n",
    "# Areas = [\"bedroom\", 112.0 , \"hallway\", 113.5, \"bathroom\", 189.5, \"kitchen\", 789.0, \"living room\", 230.2]\n",
    "# Float_area = []\n",
    "# Str_area = []\n",
    "# for i in range(len(Areas)):\n",
    "#     if type(Areas[i]) is float:\n",
    "#         Float_area.append(Areas[i])\n",
    "#     else:\n",
    "#         Str_area.append(Areas[i])\n",
    "    \n",
    "    \n",
    "# print(\"Names of Places:\")\n",
    "# for i in range(len(Str_area)):\n",
    "#     print(Str_area[i])\n",
    "    \n",
    "# print(\"Areas of Places:\")\n",
    "# for i in range(len(Float_area)):\n",
    "#     print(Float_area[i])\n",
    "    \n",
    "# print (f\"Area of {Str_area[0]} is {Float_area[0]}\")\n",
    "\n",
    "\n",
    "# Original list of areas\n",
    "areas = [\"bedroom\", 112.0 , \"hallway\", 113.5, \"bathroom\", 189.5, \"kitchen\", 789.0, \"living room\", 230.2]\n",
    "\n",
    "# Clone the areas list\n",
    "float_area = areas.copy()\n",
    "str_area = areas.copy()\n",
    "\n",
    "# Remove non-float values from float_area\n",
    "float_area = [value for value in float_area if isinstance(value, float)]\n",
    "\n",
    "# Remove non-string values from str_area\n",
    "str_area = [value for value in str_area if isinstance(value, str)]\n",
    "\n",
    "# Print all elements of the lists using slicing\n",
    "print(\"Original Areas List:\", areas[:])\n",
    "print(\"Float Area List:\", float_area[:])\n",
    "print(\"String Area List:\", str_area[:])\n",
    "\n",
    "# Print the area of the bedroom along with its name from the Areas list using slicing\n",
    "bedroom_area_name = areas[:2]\n",
    "print(\"\\nArea of Bedroom along with its name:\", bedroom_area_name)\n"
   ]
  },
  {
   "cell_type": "markdown",
   "id": "8b437f89",
   "metadata": {},
   "source": [
    "# Task3"
   ]
  },
  {
   "cell_type": "code",
   "execution_count": 9,
   "id": "d3b0ebe2",
   "metadata": {},
   "outputs": [
    {
     "name": "stdout",
     "output_type": "stream",
     "text": [
      "Original list elements:\n",
      "['bed', 112.0, 'hall', 113.5, 'bath', 189.5, 'kit', 789.0, 'liv', 230.0, ['pool', 112.7, 117.9], ['grg', 112.0]]\n",
      "Deep flatten the said list:\n",
      "['bed', 112.0, 'hall', 113.5, 'bath', 189.5, 'kit', 789.0, 'liv', 230.0, 'pool', 112.7, 117.9, 'grg', 112.0]\n"
     ]
    }
   ],
   "source": [
    "# Areas.append(['pool', 112.7,117.9])\n",
    "# Areas.append(['grg',112.0])\n",
    "# print(f\"Original list is \\n {Areas}\")\n",
    "# Final_List = []\n",
    "\n",
    "# Final_List.append(Areas)\n",
    "\n",
    "# print(f\"\\nFinal list is \\n {Final_List}\")\n",
    "\n",
    "\n",
    "def deep_flatten(lst):\n",
    "    result = []\n",
    "    for item in lst:\n",
    "        if isinstance(item, list):\n",
    "            result.extend(deep_flatten(item))\n",
    "        else:\n",
    "            result.append(item)\n",
    "    return result\n",
    "\n",
    "# Original list\n",
    "original_list = ['bed', 112.0, 'hall', 113.5, 'bath', 189.5, 'kit', 789.0, 'liv', 230.0, ['pool', 112.7, 117.9], ['grg', 112.0]]\n",
    "\n",
    "# Deep flatten the list\n",
    "flattened_list = deep_flatten(original_list)\n",
    "\n",
    "# Display the results\n",
    "print(\"Original list elements:\")\n",
    "print(original_list)\n",
    "print(\"Deep flatten the said list:\")\n",
    "print(flattened_list)\n"
   ]
  },
  {
   "cell_type": "markdown",
   "id": "fd3cf1bf",
   "metadata": {},
   "source": [
    "# Task4"
   ]
  },
  {
   "cell_type": "code",
   "execution_count": 10,
   "id": "e85c372d",
   "metadata": {},
   "outputs": [
    {
     "name": "stdout",
     "output_type": "stream",
     "text": [
      "Extracted values from the dictionaries:\n",
      "[[1, 'Jean Castro', 'V'], [2, 'Lula Powell', 'V'], [3, 'Brian Howell', 'VI'], [4, 'Lynne Foster', 'VI'], [5, 'Zachary Simon', 'VII']]\n",
      "[[1, 'Jean Castro'], [2, 'Lula Powell'], [3, 'Brian Howell'], [4, 'Lynne Foster'], [5, 'Zachary Simon']]\n",
      "[['Jean Castro', 'V'], ['Lula Powell', 'V'], ['Brian Howell', 'VI'], ['Lynne Foster', 'VI'], ['Zachary Simon', 'VII']]\n",
      "\n",
      "Converted dictionaries from lists of lists:\n",
      "[{'student_id': 1, 'name': 'Jean Castro', 'class': 'V'}, {'student_id': 2, 'name': 'Lula Powell', 'class': 'V'}, {'student_id': 3, 'name': 'Brian Howell', 'class': 'VI'}, {'student_id': 4, 'name': 'Lynne Foster', 'class': 'VI'}, {'student_id': 5, 'name': 'Zachary Simon', 'class': 'VII'}]\n",
      "[{'student_id': 1, 'name': 'Jean Castro'}, {'student_id': 2, 'name': 'Lula Powell'}, {'student_id': 3, 'name': 'Brian Howell'}, {'student_id': 4, 'name': 'Lynne Foster'}, {'student_id': 5, 'name': 'Zachary Simon'}]\n",
      "[{'name': 'Jean Castro', 'class': 'V'}, {'name': 'Lula Powell', 'class': 'V'}, {'name': 'Brian Howell', 'class': 'VI'}, {'name': 'Lynne Foster', 'class': 'VI'}, {'name': 'Zachary Simon', 'class': 'VII'}]\n"
     ]
    }
   ],
   "source": [
    "# List = [{'student_id': 1, 'name': 'Jean Castro', 'class': 'V'}, {'student_id': 2, 'name': 'Lula Powell', 'class': 'V'}, {'student_id': 3, 'name': 'Brian Howell', 'class': 'VI'}, {'student_id': 4, 'name': 'Lynne Foster', 'class': 'VI'}, {'student_id': 5, 'name': 'Zachary Simon', 'class': 'VII'}]\n",
    "\n",
    "# Dict1 = List[0]\n",
    "# Dict2 = List[1]\n",
    "# Dict2 = List[2]\n",
    "# Dict2 = List[3]\n",
    "# Dict2 = List[4]\n",
    "\n",
    "\n",
    "# Original Dictionary\n",
    "original_dict = [\n",
    "    {'student_id': 1, 'name': 'Jean Castro', 'class': 'V'},\n",
    "    {'student_id': 2, 'name': 'Lula Powell', 'class': 'V'},\n",
    "    {'student_id': 3, 'name': 'Brian Howell', 'class': 'VI'},\n",
    "    {'student_id': 4, 'name': 'Lynne Foster', 'class': 'VI'},\n",
    "    {'student_id': 5, 'name': 'Zachary Simon', 'class': 'VII'}\n",
    "]\n",
    "\n",
    "# Extract values and create a list of lists\n",
    "list_of_lists_full = [[d['student_id'], d['name'], d['class']] for d in original_dict]\n",
    "list_of_lists_id_name = [[d['student_id'], d['name']] for d in original_dict]\n",
    "list_of_lists_name_class = [[d['name'], d['class']] for d in original_dict]\n",
    "\n",
    "# Print the lists of lists\n",
    "print(\"Extracted values from the dictionaries:\")\n",
    "print(list_of_lists_full)\n",
    "print(list_of_lists_id_name)\n",
    "print(list_of_lists_name_class)\n",
    "\n",
    "# Convert lists of lists back to dictionaries\n",
    "dict_from_list_full = [{'student_id': lst[0], 'name': lst[1], 'class': lst[2]} for lst in list_of_lists_full]\n",
    "dict_from_list_id_name = [{'student_id': lst[0], 'name': lst[1]} for lst in list_of_lists_id_name]\n",
    "dict_from_list_name_class = [{'name': lst[0], 'class': lst[1]} for lst in list_of_lists_name_class]\n",
    "\n",
    "# Print the dictionaries obtained from lists of lists\n",
    "print(\"\\nConverted dictionaries from lists of lists:\")\n",
    "print(dict_from_list_full)\n",
    "print(dict_from_list_id_name)\n",
    "print(dict_from_list_name_class)\n"
   ]
  },
  {
   "cell_type": "markdown",
   "id": "08f633a1",
   "metadata": {},
   "source": [
    "# Task5"
   ]
  },
  {
   "cell_type": "code",
   "execution_count": 9,
   "id": "f3242a01",
   "metadata": {},
   "outputs": [
    {
     "name": "stdout",
     "output_type": "stream",
     "text": [
      "Output: [0, 1, 4]\n"
     ]
    }
   ],
   "source": [
    "\"\"\"List = []\n",
    "Fav_food_items = [['pizza','burger','hotdogs'] ,['pasta','hotdogs'],['pizza'],['burger','hotdogs'],['rice' ,'pasta'] ,['pasta']]\n",
    "\n",
    "\"\"\"\n",
    "\n",
    "def find_unique_favorites_indices(fav_food_items):\n",
    "    unique_indices = []\n",
    "    \n",
    "    for i, current_list in enumerate(fav_food_items):\n",
    "        is_subset = False\n",
    "        \n",
    "        for j, other_list in enumerate(fav_food_items):\n",
    "            if i != j and set(current_list).issubset(set(other_list)):\n",
    "                is_subset = True\n",
    "                break\n",
    "        \n",
    "        if not is_subset:\n",
    "            unique_indices.append(i)\n",
    "    \n",
    "    return sorted(unique_indices)\n",
    "\n",
    "# Given list of lists\n",
    "Fav_food_items = [['pizza', 'burger', 'hotdogs'],\n",
    "                  ['pasta', 'hotdogs'],\n",
    "                  ['pizza'],\n",
    "                  ['burger', 'hotdogs'],\n",
    "                  ['rice', 'pasta'],\n",
    "                  ['pasta']]\n",
    "\n",
    "# Find indices of people with unique favorite food items\n",
    "result_indices = find_unique_favorites_indices(Fav_food_items)\n",
    "\n",
    "# Display the result\n",
    "print(\"Output:\", result_indices)\n"
   ]
  },
  {
   "cell_type": "markdown",
   "id": "90f8b66e",
   "metadata": {},
   "source": [
    "# Task6"
   ]
  },
  {
   "cell_type": "code",
   "execution_count": 10,
   "id": "75007c1e",
   "metadata": {},
   "outputs": [
    {
     "name": "stdout",
     "output_type": "stream",
     "text": [
      "Original Tuple: (89, 2, 11, 52, 28, 85, 88, 41, 80, 88)\n",
      "Sorted Tuple: (2, 11, 28, 41, 52, 80, 85, 88, 88, 89)\n"
     ]
    }
   ],
   "source": [
    "\"\"\"\n",
    "import random\n",
    "\n",
    "# Create a ten-element tuple of random numbers\n",
    "random_numbers = tuple(random.randint(1, 100) for _ in range(10))\n",
    "\n",
    "print(\"Original Tuple:\", random_numbers)\n",
    "\n",
    "# Implementing bubble sort to sort the tuple\n",
    "def bubble_sort(input_tuple):\n",
    "    n = len(input_tuple)\n",
    "    sorted_tuple = list(input_tuple)\n",
    "\n",
    "    for i in range(n - 1):\n",
    "        for j in range(0, n - i - 1):\n",
    "            if sorted_tuple[j] > sorted_tuple[j + 1]:\n",
    "                # Swap elements if they are in the wrong order\n",
    "                sorted_tuple[j], sorted_tuple[j + 1] = sorted_tuple[j + 1], sorted_tuple[j]\n",
    "\n",
    "    return tuple(sorted_tuple)\n",
    "\n",
    "# Sort the tuple using bubble sort\n",
    "sorted_tuple = bubble_sort(random_numbers)\n",
    "\n",
    "print(\"Sorted Tuple:\", sorted_tuple)\n",
    "\"\"\"\n"
   ]
  },
  {
   "cell_type": "markdown",
   "id": "6903d0f8",
   "metadata": {},
   "source": [
    "# Task7"
   ]
  },
  {
   "cell_type": "code",
   "execution_count": 93,
   "id": "487a5f98",
   "metadata": {},
   "outputs": [
    {
     "name": "stdout",
     "output_type": "stream",
     "text": [
      "Array 1 is [0. 0. 0. 0. 0. 0. 0. 0. 0. 0.]\n",
      "Array 2 is [1. 1. 1. 1. 1. 1. 1. 1. 1. 1.]\n",
      "Array 3 is [5. 5. 5. 5. 5. 5. 5. 5. 5. 5.]\n",
      "\n",
      "Final Array is [0. 0. 0. 0. 0. 0. 0. 0. 0. 0. 1. 1. 1. 1. 1. 1. 1. 1. 1. 1. 5. 5. 5. 5.\n",
      " 5. 5. 5. 5. 5. 5.]\n"
     ]
    }
   ],
   "source": [
    "import numpy as np\n",
    "Array1 = np.zeros(10)\n",
    "Array2 = np.ones(10)\n",
    "Array3 = Array1+5\n",
    "\n",
    "print(f\"Array 1 is {Array1}\")\n",
    "print(f\"Array 2 is {Array2}\")\n",
    "print(f\"Array 3 is {Array3}\")\n",
    "\n",
    "\"\"\"\n",
    "# Create an array of 10 fives\n",
    "fives_array = np.full(10, 5)\n",
    "\"\"\"\n",
    "\n",
    "Final_Array = np.concatenate([Array1,Array2,Array3])\n",
    "print(f\"\\nFinal Array is {Final_Array}\")"
   ]
  },
  {
   "cell_type": "markdown",
   "id": "e83d901a",
   "metadata": {},
   "source": [
    "# Task8"
   ]
  },
  {
   "cell_type": "code",
   "execution_count": 45,
   "id": "45c99ded",
   "metadata": {},
   "outputs": [
    {
     "data": {
      "text/plain": [
       "array([[10, 11, 12, 13],\n",
       "       [14, 15, 16, 17],\n",
       "       [18, 19, 20, 21]])"
      ]
     },
     "execution_count": 45,
     "metadata": {},
     "output_type": "execute_result"
    }
   ],
   "source": [
    "np.arange(10,22).reshape(3,4)"
   ]
  },
  {
   "cell_type": "markdown",
   "id": "1d42932e",
   "metadata": {},
   "source": [
    "# Task9"
   ]
  },
  {
   "cell_type": "code",
   "execution_count": 1,
   "id": "3187d5ce",
   "metadata": {},
   "outputs": [
    {
     "name": "stdout",
     "output_type": "stream",
     "text": [
      "Enter the Student Count: 800\n",
      "Enter the Faculty Count: 45\n",
      "There is Warning!!!\n"
     ]
    }
   ],
   "source": [
    "class Campus:\n",
    "    name = \"FAST\"\n",
    "    location = \"Islamabad\"\n",
    "    st_count = 500\n",
    "    ft_count = 20\n",
    "    \n",
    "    def __init__(self, name, location, st_count, ft_count):\n",
    "        self.name = name\n",
    "        self.location = location\n",
    "        self.st_count = st_count\n",
    "        self.ft_count = ft_count\n",
    "    \n",
    "    def warning(self, x, y):\n",
    "        if (x > 5*y):\n",
    "            print(\"There is Warning!!!\")\n",
    "        else:\n",
    "            print(\"No Warning:)\")\n",
    "    \n",
    "    def attributes(self):\n",
    "        print(name)\n",
    "        print(location)\n",
    "        print(st_count)\n",
    "        print(ft_count)\n",
    "        \n",
    "C1 = Campus(\"CUST\", \"Isb\", 900, 25)\n",
    "st = input(\"Enter the Student Count: \")\n",
    "fc = input(\"Enter the Faculty Count: \")\n",
    "C1.warning(st, fc)\n",
    "\n",
    "\n",
    "\"\"\"\n",
    "class Campus:\n",
    "    def __init__(self, name, location, student_count, faculty_count):\n",
    "        self.name = name\n",
    "        self.location = location\n",
    "        self.student_count = student_count\n",
    "        self.faculty_count = faculty_count\n",
    "\n",
    "    def warning(self):\n",
    "        if self.student_count > 5 * self.faculty_count:\n",
    "            print(f\"Warning: The student count ({self.student_count}) is more than 5 times the faculty count ({self.faculty_count}).\")\n",
    "\n",
    "    def display_info(self):\n",
    "        print(f\"Campus Information:\")\n",
    "        print(f\"Name: {self.name}\")\n",
    "        print(f\"Location: {self.location}\")\n",
    "        print(f\"Student Count: {self.student_count}\")\n",
    "        print(f\"Faculty Count: {self.faculty_count}\")\n",
    "\n",
    "# Example usage:\n",
    "campus_1 = Campus(\"University A\", \"City A\", 1000, 200)\n",
    "campus_2 = Campus(\"College B\", \"Town B\", 500, 100)\n",
    "\n",
    "# Display information for each campus\n",
    "campus_1.display_info()\n",
    "campus_1.warning()\n",
    "\n",
    "print(\"\\n\")\n",
    "\n",
    "campus_2.display_info()\n",
    "campus_2.warning()\n",
    "\n",
    "\"\"\""
   ]
  },
  {
   "cell_type": "code",
   "execution_count": null,
   "id": "84f5f3b2",
   "metadata": {},
   "outputs": [],
   "source": []
  }
 ],
 "metadata": {
  "kernelspec": {
   "display_name": "Python 3 (ipykernel)",
   "language": "python",
   "name": "python3"
  },
  "language_info": {
   "codemirror_mode": {
    "name": "ipython",
    "version": 3
   },
   "file_extension": ".py",
   "mimetype": "text/x-python",
   "name": "python",
   "nbconvert_exporter": "python",
   "pygments_lexer": "ipython3",
   "version": "3.11.4"
  }
 },
 "nbformat": 4,
 "nbformat_minor": 5
}
