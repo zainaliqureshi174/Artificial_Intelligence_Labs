{
 "cells": [
  {
   "cell_type": "markdown",
   "id": "66cb3e74",
   "metadata": {},
   "source": [
    "# AI-2002 Artificial Intelligence Lab 01"
   ]
  },
  {
   "cell_type": "markdown",
   "id": "2151cda3",
   "metadata": {},
   "source": [
    "Python is a great general-purpose programming language on its own, but with the help of a few popular libraries (numpy, scipy, matplotlib) it becomes a powerful environment for scientific computing. Python is a high-level, dynamically typed multiparadigm programming language. Python code is often said to be almost like pseudocode, since it allows you to express very powerful ideas in very few lines of code while being very readable. As an example, here is an implementation of the classic quicksort algorithm in Python:"
   ]
  },
  {
   "cell_type": "markdown",
   "id": "6daa4817",
   "metadata": {},
   "source": [
    "## Print statement"
   ]
  },
  {
   "cell_type": "code",
   "execution_count": 5,
   "id": "c3161cdb",
   "metadata": {},
   "outputs": [
    {
     "name": "stdout",
     "output_type": "stream",
     "text": [
      "This is my first hands-on in Python :)\n"
     ]
    }
   ],
   "source": [
    "print('This is my first hands-on in Python :)')"
   ]
  },
  {
   "cell_type": "code",
   "execution_count": 7,
   "id": "632c1529",
   "metadata": {},
   "outputs": [
    {
     "name": "stdout",
     "output_type": "stream",
     "text": [
      "This is my first hands-on in Python :)\n"
     ]
    }
   ],
   "source": [
    "print('This is my {} hands-on in {} :)'.format('first', 'Python'))"
   ]
  },
  {
   "cell_type": "code",
   "execution_count": 22,
   "id": "e2454fca",
   "metadata": {},
   "outputs": [
    {
     "name": "stdout",
     "output_type": "stream",
     "text": [
      "one\n",
      "two\n",
      "three\n",
      "\n",
      "\n"
     ]
    }
   ],
   "source": [
    "# -- output in next lines\n",
    "print(\"\"\"one\n",
    "two\n",
    "three\n",
    "\n",
    "\"\"\")\n"
   ]
  },
  {
   "cell_type": "code",
   "execution_count": 23,
   "id": "1c796620",
   "metadata": {},
   "outputs": [
    {
     "name": "stdout",
     "output_type": "stream",
     "text": [
      "Hello I am here\n",
      ".Ok?\n",
      "hi are u ok Sara\n",
      "Sarah are u 18?\n"
     ]
    }
   ],
   "source": [
    "# -- next line\n",
    "print(\"Hello I am here\\n.Ok?\")\n",
    "\n",
    "# -- print different datatypes\n",
    "name = 'Sara'\n",
    "print(f'hi are u ok {name}')\n",
    "\n",
    "age = 18\n",
    "print(f'Sarah are u {age}?')"
   ]
  },
  {
   "cell_type": "markdown",
   "id": "09286d2d",
   "metadata": {},
   "source": [
    "## User Input"
   ]
  },
  {
   "cell_type": "code",
   "execution_count": 2,
   "id": "1735b3a6",
   "metadata": {},
   "outputs": [
    {
     "name": "stdout",
     "output_type": "stream",
     "text": [
      "Enter username: \n",
      "Username is:  \n"
     ]
    }
   ],
   "source": [
    "name = input(\"Enter username:\")\n",
    "print(\"Username is: \" + name)"
   ]
  },
  {
   "cell_type": "code",
   "execution_count": 9,
   "id": "ea3125ba",
   "metadata": {},
   "outputs": [],
   "source": [
    "# Ask name and registration id from user and display it on screen\n",
    "#YOUR CODE HERE"
   ]
  },
  {
   "cell_type": "markdown",
   "id": "24c88708",
   "metadata": {},
   "source": [
    "## Variables/Data types"
   ]
  },
  {
   "cell_type": "code",
   "execution_count": 20,
   "id": "93e57db0",
   "metadata": {},
   "outputs": [
    {
     "name": "stdout",
     "output_type": "stream",
     "text": [
      "Telso5\n"
     ]
    }
   ],
   "source": [
    "\n",
    "# You don't have to tell the type of variable \n",
    "\n",
    "apples = 5\n",
    "price_of_apples = 5.6\n",
    "brand_of_appls = \"Telso\"\n",
    "\n",
    "print(brand_of_appls + str(apples))"
   ]
  },
  {
   "cell_type": "code",
   "execution_count": 13,
   "id": "0d5ab612",
   "metadata": {},
   "outputs": [],
   "source": [
    "x = 1\n",
    "y = 3.5\n",
    "z = 'Programming'\n",
    "w = True"
   ]
  },
  {
   "cell_type": "code",
   "execution_count": 14,
   "id": "d596a331",
   "metadata": {},
   "outputs": [
    {
     "name": "stdout",
     "output_type": "stream",
     "text": [
      "1 3.5 Programming True\n"
     ]
    }
   ],
   "source": [
    "print(x, y, z, w)"
   ]
  },
  {
   "cell_type": "code",
   "execution_count": 15,
   "id": "3fa8e332",
   "metadata": {},
   "outputs": [
    {
     "name": "stdout",
     "output_type": "stream",
     "text": [
      "<class 'int'> <class 'float'> <class 'str'> <class 'bool'>\n"
     ]
    }
   ],
   "source": [
    "print(type(x), type(y), type(z), type(w))"
   ]
  },
  {
   "cell_type": "code",
   "execution_count": 16,
   "id": "a8f3f805",
   "metadata": {},
   "outputs": [],
   "source": [
    "#Initialize a variable with your name and print its type\n",
    "#YOUR CODE HERE"
   ]
  },
  {
   "cell_type": "markdown",
   "id": "6913cc5d",
   "metadata": {},
   "source": [
    "## Arithmetic Operators"
   ]
  },
  {
   "cell_type": "code",
   "execution_count": 18,
   "id": "7fd24381",
   "metadata": {},
   "outputs": [
    {
     "data": {
      "text/plain": [
       "10"
      ]
     },
     "execution_count": 18,
     "metadata": {},
     "output_type": "execute_result"
    }
   ],
   "source": [
    "5+5"
   ]
  },
  {
   "cell_type": "code",
   "execution_count": 26,
   "id": "d62fb6d5",
   "metadata": {},
   "outputs": [
    {
     "name": "stdout",
     "output_type": "stream",
     "text": [
      "2\n",
      "0\n",
      "2\n",
      "0.5\n",
      "1\n",
      "0\n"
     ]
    }
   ],
   "source": [
    "print(x + 1)   # Addition\n",
    "print(x - 1)   # Subtraction\n",
    "print(x * 2)   # Multiplication\n",
    "print(x / 2)  # Division\n",
    "print(x ** 2)  # Exponentiation\n",
    "print(5 %5)  #remainder\n"
   ]
  },
  {
   "cell_type": "code",
   "execution_count": 29,
   "id": "c79fa559",
   "metadata": {},
   "outputs": [
    {
     "name": "stdout",
     "output_type": "stream",
     "text": [
      "Write a number ?5\n",
      "5\n",
      "10\n"
     ]
    }
   ],
   "source": [
    "# -- int\n",
    "number = input('Write a number ?')\n",
    "print(number)\n",
    "\n",
    "#----2. Typecasting variables\n",
    "print(5+int(number))\n"
   ]
  },
  {
   "cell_type": "markdown",
   "id": "e169d68f",
   "metadata": {},
   "source": [
    "## Boolean Operators"
   ]
  },
  {
   "cell_type": "code",
   "execution_count": 34,
   "id": "428743e0",
   "metadata": {},
   "outputs": [
    {
     "name": "stdout",
     "output_type": "stream",
     "text": [
      "False\n",
      "True\n",
      "False\n",
      "True\n"
     ]
    }
   ],
   "source": [
    "t, f = True, False\n",
    "\n",
    "print(t and f) # Logical AND\n",
    "print(t or f)  # Logical OR\n",
    "print(not t)   # Logical NOT\n",
    "print(t != f)  # Logical XOR"
   ]
  },
  {
   "cell_type": "markdown",
   "id": "bb7961b7",
   "metadata": {},
   "source": [
    "## Strings"
   ]
  },
  {
   "cell_type": "code",
   "execution_count": 35,
   "id": "ea766ef6",
   "metadata": {},
   "outputs": [
    {
     "name": "stdout",
     "output_type": "stream",
     "text": [
      "hello 5\n"
     ]
    }
   ],
   "source": [
    "hello = 'hello'   # String literals can use single quotes\n",
    "world = \"world\"   # or double quotes; it does not matter\n",
    "\n",
    "print(hello, len(hello)) #len=length"
   ]
  },
  {
   "cell_type": "code",
   "execution_count": 36,
   "id": "0042c194",
   "metadata": {},
   "outputs": [
    {
     "name": "stdout",
     "output_type": "stream",
     "text": [
      "hello world\n"
     ]
    }
   ],
   "source": [
    "hw = hello + ' ' + world  # String concatenation\n",
    "print(hw)"
   ]
  },
  {
   "cell_type": "code",
   "execution_count": 37,
   "id": "161da4d4",
   "metadata": {},
   "outputs": [
    {
     "name": "stdout",
     "output_type": "stream",
     "text": [
      "hello world 12\n"
     ]
    }
   ],
   "source": [
    "hw12 = '{} {} {}'.format(hello, world, 12)  # string formatting\n",
    "print(hw12)"
   ]
  },
  {
   "cell_type": "code",
   "execution_count": 38,
   "id": "a49c5254",
   "metadata": {},
   "outputs": [
    {
     "name": "stdout",
     "output_type": "stream",
     "text": [
      "Hello\n",
      "HELLO\n",
      "  hello\n",
      " hello \n",
      "heDDDDo\n",
      "world\n"
     ]
    }
   ],
   "source": [
    "s = \"hello\"\n",
    "print(s.capitalize())  # Capitalize a string\n",
    "print(s.upper())       # Convert a string to uppercase; prints \"HELLO\"\n",
    "print(s.rjust(7))      # Right-justify a string, padding with spaces\n",
    "print(s.center(7))     # Center a string, padding with spaces\n",
    "print(s.replace('l', 'DD'))  # Replace all instances of one substring with another\n",
    "print('  world '.strip())  # Strip leading and trailing whitespace"
   ]
  },
  {
   "cell_type": "code",
   "execution_count": null,
   "id": "f78ddafd",
   "metadata": {},
   "outputs": [],
   "source": [
    "#Initialize a variable with a person sitting next to you. \n",
    "#YOUR CODE HERE\n",
    "\n",
    "\n",
    "#Concatenate your name with it.\n",
    "#YOUR CODE HERE\n",
    "\n",
    "\n",
    "#Replace the person's name with the sentence 'is my Best friend, I will pay for his/her lunch today :D'\n",
    "#YOUR CODE HERE"
   ]
  },
  {
   "cell_type": "markdown",
   "id": "3756af68",
   "metadata": {},
   "source": [
    "## Conditionals"
   ]
  },
  {
   "cell_type": "code",
   "execution_count": 39,
   "id": "8f00973e",
   "metadata": {},
   "outputs": [
    {
     "name": "stdout",
     "output_type": "stream",
     "text": [
      "positive\n"
     ]
    }
   ],
   "source": [
    "my_variable = 5\n",
    "\n",
    "if my_variable < 0:\n",
    "  print(\"negative\")\n",
    "elif my_variable == 0:\n",
    "  print(\"null\")\n",
    "else:\n",
    "  print(\"positive\")"
   ]
  },
  {
   "cell_type": "markdown",
   "id": "590a2c3e",
   "metadata": {},
   "source": [
    "## Loops"
   ]
  },
  {
   "cell_type": "markdown",
   "id": "ce7d2af1",
   "metadata": {},
   "source": [
    "Loops are a way to execute a block of code multiple times. There are two main types of loops: while loops and for loops."
   ]
  },
  {
   "cell_type": "code",
   "execution_count": 40,
   "id": "10bd34a2",
   "metadata": {},
   "outputs": [
    {
     "name": "stdout",
     "output_type": "stream",
     "text": [
      "0\n",
      "1\n",
      "2\n",
      "3\n",
      "4\n",
      "5\n",
      "6\n"
     ]
    }
   ],
   "source": [
    "i = 0\n",
    "while i < len('Program'):\n",
    "  print(i)\n",
    "  i += 1 # equivalent to i = i + 1"
   ]
  },
  {
   "cell_type": "code",
   "execution_count": 41,
   "id": "b62ec923",
   "metadata": {},
   "outputs": [
    {
     "name": "stdout",
     "output_type": "stream",
     "text": [
      "0\n",
      "1\n",
      "2\n",
      "3\n",
      "4\n",
      "5\n",
      "6\n"
     ]
    }
   ],
   "source": [
    "for i in range(len('Program')):\n",
    "  print(i)"
   ]
  },
  {
   "cell_type": "code",
   "execution_count": 42,
   "id": "9516ab66",
   "metadata": {},
   "outputs": [
    {
     "name": "stdout",
     "output_type": "stream",
     "text": [
      "b\n",
      "a\n",
      "n\n",
      "a\n",
      "n\n",
      "a\n"
     ]
    }
   ],
   "source": [
    "for x in \"banana\":\n",
    "  print(x)"
   ]
  },
  {
   "cell_type": "markdown",
   "id": "1930d93f",
   "metadata": {},
   "source": [
    "## Functions"
   ]
  },
  {
   "cell_type": "markdown",
   "id": "d4f9b7f9",
   "metadata": {},
   "source": [
    "Python functions are defined using the `def` keyword. For example:"
   ]
  },
  {
   "cell_type": "code",
   "execution_count": 43,
   "id": "622d3bd4",
   "metadata": {},
   "outputs": [],
   "source": [
    "def sign(x):\n",
    "    if x > 0:\n",
    "        return 'positive'\n",
    "    elif x < 0:\n",
    "        return 'negative'\n",
    "    else:\n",
    "        return 'zero'"
   ]
  },
  {
   "cell_type": "code",
   "execution_count": 45,
   "id": "0942de03",
   "metadata": {},
   "outputs": [
    {
     "name": "stdout",
     "output_type": "stream",
     "text": [
      "negative\n"
     ]
    }
   ],
   "source": [
    "print(sign(-5))"
   ]
  },
  {
   "cell_type": "markdown",
   "id": "8ea65dee",
   "metadata": {},
   "source": [
    "We will often define functions to take optional keyword arguments, like this:"
   ]
  },
  {
   "cell_type": "code",
   "execution_count": 46,
   "id": "e42b0a85",
   "metadata": {},
   "outputs": [
    {
     "name": "stdout",
     "output_type": "stream",
     "text": [
      "Hello, ehsaan!\n",
      "HELLO, ALI\n"
     ]
    }
   ],
   "source": [
    "def hello(name, loud=False):\n",
    "    if loud:\n",
    "        print('HELLO, {}'.format(name.upper()))\n",
    "    else:\n",
    "        print('Hello, {}!'.format(name))\n",
    "\n",
    "hello('ehsaan')\n",
    "hello('ali', loud=True)"
   ]
  },
  {
   "cell_type": "code",
   "execution_count": 47,
   "id": "f8a2c41d",
   "metadata": {},
   "outputs": [
    {
     "data": {
      "text/plain": [
       "36"
      ]
     },
     "execution_count": 47,
     "metadata": {},
     "output_type": "execute_result"
    }
   ],
   "source": [
    "def square(x):\n",
    "  return x ** 2\n",
    "\n",
    "def multiply(a, b):\n",
    "  return a * b\n",
    "\n",
    "# Functions can be composed.\n",
    "square(multiply(3, 2))"
   ]
  },
  {
   "cell_type": "code",
   "execution_count": 11,
   "id": "8035fede",
   "metadata": {},
   "outputs": [
    {
     "name": "stdout",
     "output_type": "stream",
     "text": [
      "The sum is 48\n",
      "I like pop\n",
      "I like rock\n",
      "I like jazz\n",
      "0\n",
      "1\n",
      "5\n",
      "No items left.\n"
     ]
    }
   ],
   "source": [
    "\n",
    "\n",
    "# ----1. Looping through List\n",
    "\n",
    "# ---- Get The Value and work with it\n",
    "# Program to find the sum of all numbers stored in a list\n",
    "\n",
    "# List of numbers\n",
    "numbers = [6, 5, 3, 8, 4, 2, 5, 4, 11]\n",
    "\n",
    "# variable to store the sum\n",
    "sum = 0\n",
    "\n",
    "# iterate over the list\n",
    "for val in numbers:\n",
    "    sum = sum+val\n",
    "\n",
    "print(\"The sum is\", sum)\n",
    "\n",
    "# ----- Indexing \n",
    "# Program to iterate through a list using indexing\n",
    "\n",
    "genre = ['pop', 'rock', 'jazz']\n",
    "\n",
    "# iterate over the list using index\n",
    "for i in range(len(genre)):\n",
    "    print(\"I like\", genre[i])\n",
    "    \n",
    "# ------ For Loop with else block\n",
    "digits = [0, 1, 5]\n",
    "\n",
    "for i in digits:\n",
    "    print(i)\n",
    "else:\n",
    "    print(\"No items left.\")\n"
   ]
  },
  {
   "cell_type": "code",
   "execution_count": 12,
   "id": "e687741d",
   "metadata": {},
   "outputs": [
    {
     "name": "stdout",
     "output_type": "stream",
     "text": [
      "The sum is 55\n"
     ]
    }
   ],
   "source": [
    "#--------------------#\n",
    "#    While loop      #\n",
    "#--------------------#\n",
    "n = 10\n",
    "\n",
    "# initialize sum and counter\n",
    "sum = 0\n",
    "i = 1\n",
    "\n",
    "while i <= n:\n",
    "    sum = sum + i\n",
    "    i = i+1    # update counter\n",
    "\n",
    "# print the sum\n",
    "print(\"The sum is\", sum)\n",
    "\n",
    "#it can have else block as well"
   ]
  },
  {
   "cell_type": "markdown",
   "id": "437567bb",
   "metadata": {},
   "source": [
    " ## Lists"
   ]
  },
  {
   "cell_type": "code",
   "execution_count": 10,
   "id": "2f9a9ca7",
   "metadata": {},
   "outputs": [
    {
     "name": "stdout",
     "output_type": "stream",
     "text": [
      "[[11.0, 12.0], [13.0, 15.0], [16.0, 19.0, 12.0]]\n"
     ]
    }
   ],
   "source": [
    "\n",
    "#----1. Create Python Lists----\n",
    "\n",
    "# --list of floats\n",
    "areas = [10.0, 16.0, 10.0]\n",
    "\n",
    "# --list with mixed data types\n",
    "areas = [\"hall\", 10.0, \"bath\" , 16.0 , \"bed\", 10.0]\n",
    "\n",
    "# --nested list\n",
    "# a. list as an item \n",
    "\n",
    "garage_area = [11.0,12.0]\n",
    "areas = [\"hall\", 10.0, \"bath\" , 16.0 , \"bed\", 10.0 , garage_area]\n",
    "\n",
    "# b. list of lists\n",
    "\n",
    "bedroom_area = [11.0 , 12.0]\n",
    "hallway_area = [13.0 , 15.0]\n",
    "pool_area = [16.0 , 19.0 , 12.0]\n",
    "\n",
    "areas = [bedroom_area , hallway_area , pool_area]\n",
    "print(areas)\n"
   ]
  },
  {
   "cell_type": "code",
   "execution_count": 13,
   "id": "abce0dbf",
   "metadata": {},
   "outputs": [
    {
     "name": "stdout",
     "output_type": "stream",
     "text": [
      "0\n",
      "3\n"
     ]
    }
   ],
   "source": [
    "#----2. Access List Elements ----\n",
    "\n",
    "# -- List index\n",
    "numbers = [0, 1, 2, 3, 4, 5, 6, 7]\n",
    "\n",
    "print(numbers[0])\n",
    "\n",
    "# -- Nested List indexing\n",
    "\n",
    "numbers2d = [[0,1],[2,3],[3,5]]\n",
    "\n",
    "print(numbers2d[1][1])\n",
    "\n"
   ]
  },
  {
   "cell_type": "code",
   "execution_count": 16,
   "id": "8a79e668",
   "metadata": {},
   "outputs": [
    {
     "name": "stdout",
     "output_type": "stream",
     "text": [
      "[2, 3, 4, 5]\n",
      "[3, 4, 5, 6, 7]\n",
      "[0, 1, 2, 3, 4, 5, 6, 7]\n"
     ]
    }
   ],
   "source": [
    "#----2. List Slicing Elements ----\n",
    "\n",
    "print(numbers[2:6])\n",
    "\n",
    "print(numbers[3:])\n",
    "\n",
    "print(numbers[:])\n",
    "\n"
   ]
  },
  {
   "cell_type": "code",
   "execution_count": 14,
   "id": "32c0fd81",
   "metadata": {},
   "outputs": [
    {
     "name": "stdout",
     "output_type": "stream",
     "text": [
      "[3, 5, 7, 11]\n",
      "[0, 2, 4, 8]\n"
     ]
    }
   ],
   "source": [
    "#----3. Mutable Lists ----\n",
    "\n",
    "even = [3 , 5 , 7 , 11]\n",
    "print(even)\n",
    "even[0] = 0\n",
    "\n",
    "even[1:] = [2,4,8]\n",
    "\n",
    "print(even)\n",
    "\n"
   ]
  },
  {
   "cell_type": "code",
   "execution_count": 18,
   "id": "c29c83c9",
   "metadata": {},
   "outputs": [
    {
     "name": "stdout",
     "output_type": "stream",
     "text": [
      "[1, 3, 5, 9, 7, 5]\n",
      "['re', 're', 're']\n"
     ]
    }
   ],
   "source": [
    "#---- 4. Concatenating and repeating lists\n",
    "odd = [1, 3, 5]\n",
    "\n",
    "print(odd + [9, 7, 5])\n",
    "\n",
    "print([\"re\"] * 3)"
   ]
  },
  {
   "cell_type": "code",
   "execution_count": 20,
   "id": "8fa1a9a0",
   "metadata": {},
   "outputs": [
    {
     "name": "stdout",
     "output_type": "stream",
     "text": [
      "[3, 5, 7, 11, 12, [14, 16]]\n",
      "[3, 5, 7, 11, 12, [14, 16], 14, 16, 18]\n",
      "[1, 3, 9]\n"
     ]
    }
   ],
   "source": [
    "# ---- 5. List Methods \n",
    "even = [3 , 5 , 7 , 11]\n",
    "\n",
    "# append() 1 item\n",
    "even.append(12)\n",
    "even.append([14,16]) #will be added as list\n",
    "\n",
    "print(even)\n",
    "\n",
    "# extend() add more items\n",
    "# even.append([14,16,18])\n",
    "even.extend([14,16,18])\n",
    "print(even)\n",
    "\n",
    "#insert() 1 or more at a position\n",
    "odd = [1, 9]\n",
    "odd.insert(1,3)\n",
    "\n",
    "print(odd)\n",
    "\n",
    "#odd[2:2] = [5, 7]\n",
    "\n"
   ]
  },
  {
   "cell_type": "code",
   "execution_count": null,
   "id": "2ce5b723",
   "metadata": {},
   "outputs": [],
   "source": []
  }
 ],
 "metadata": {
  "kernelspec": {
   "display_name": "Python 3 (ipykernel)",
   "language": "python",
   "name": "python3"
  },
  "language_info": {
   "codemirror_mode": {
    "name": "ipython",
    "version": 3
   },
   "file_extension": ".py",
   "mimetype": "text/x-python",
   "name": "python",
   "nbconvert_exporter": "python",
   "pygments_lexer": "ipython3",
   "version": "3.11.4"
  }
 },
 "nbformat": 4,
 "nbformat_minor": 5
}
