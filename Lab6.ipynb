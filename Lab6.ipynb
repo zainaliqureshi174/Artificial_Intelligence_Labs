{
 "cells": [
  {
   "cell_type": "code",
   "execution_count": 14,
   "id": "dc365973",
   "metadata": {},
   "outputs": [],
   "source": [
    "import numpy as np\n",
    "import random\n",
    "from collections import deque"
   ]
  },
  {
   "cell_type": "code",
   "execution_count": 23,
   "id": "0ab8b464",
   "metadata": {},
   "outputs": [
    {
     "name": "stdout",
     "output_type": "stream",
     "text": [
      "Initial Board:\n",
      "[[3 5 1]\n",
      " [0 6 2]\n",
      " [7 4 8]]\n",
      "No solution found within depth limit.\n"
     ]
    }
   ],
   "source": [
    "class PuzzleGame:\n",
    "    def __init__(self):\n",
    "        self.desired_result = np.array([[1, 2, 3], [4, 5, 6], [7, 8, 0]])\n",
    "        self.board = self.desired_result.copy()\n",
    "        self.shuffle()\n",
    "\n",
    "    def shuffle(self):\n",
    "        flat_solution = self.desired_result.flatten()\n",
    "        flat_board = flat_solution.copy()\n",
    "        while True:\n",
    "            np.random.shuffle(flat_board)\n",
    "            if self.is_solvable(flat_board):\n",
    "                break\n",
    "        self.board = np.array(flat_board).reshape((3, 3))\n",
    "\n",
    "    def is_solvable(self, board):\n",
    "        inversions = 0\n",
    "        for i in range(len(board)):\n",
    "            for j in range(i + 1, len(board)):\n",
    "                if board[i] > board[j] and board[i] != 0 and board[j] != 0:\n",
    "                    inversions += 1\n",
    "        return inversions % 2 == 0\n",
    "\n",
    "    def display_board(self):\n",
    "        print(self.board)\n",
    "\n",
    "    def is_solved(self):\n",
    "        return np.array_equal(self.board, self.desired_result)\n",
    "\n",
    "    def get_neighbors(self):\n",
    "        neighbors = []\n",
    "        zero_position = np.argwhere(self.board == 0)[0]\n",
    "        moves = [(0, 1), (0, -1), (1, 0), (-1, 0)]\n",
    "        for move in moves:\n",
    "            new_pos = tuple(zero_position + move)\n",
    "            if 0 <= new_pos[0] < 3 and 0 <= new_pos[1] < 3:\n",
    "                new_board = self.board.copy()\n",
    "                new_board[zero_position[0], zero_position[1]], new_board[new_pos[0], new_pos[1]] = new_board[new_pos[0], new_pos[1]], new_board[zero_position[0], zero_position[1]]\n",
    "                neighbors.append(new_board)\n",
    "        return neighbors\n",
    "\n",
    "    def iterative_deepening_search(self, max_depth=15):\n",
    "        for depth in range(max_depth):\n",
    "            path = self.depth_limited_search(self.board, depth)\n",
    "            if path is not None:\n",
    "                return path\n",
    "        return None\n",
    "\n",
    "    def depth_limited_search(self, state, depth_limit):\n",
    "        return self.recursive_dls(state, depth_limit)\n",
    "\n",
    "    def recursive_dls(self, state, depth_limit):\n",
    "        if np.array_equal(state, self.desired_result):\n",
    "            return [state]\n",
    "\n",
    "        if depth_limit == 0:\n",
    "            return None\n",
    "\n",
    "        for neighbor in self.get_neighbors():\n",
    "            result = self.recursive_dls(neighbor, depth_limit - 1)\n",
    "            if result is not None:\n",
    "                result.insert(0, state)\n",
    "                return result\n",
    "        return None\n",
    "\n",
    "\n",
    "Game = PuzzleGame()\n",
    "print(\"Initial Board:\")\n",
    "Game.display_board()\n",
    "\n",
    "path = Game.iterative_deepening_search()\n",
    "if path is not None:\n",
    "    print(\"Solution found:\")\n",
    "    for state in path:\n",
    "        print(state)\n",
    "else:\n",
    "    print(\"No solution found within depth limit.\")\n"
   ]
  },
  {
   "cell_type": "code",
   "execution_count": null,
   "id": "60de97c2",
   "metadata": {},
   "outputs": [],
   "source": []
  }
 ],
 "metadata": {
  "kernelspec": {
   "display_name": "Python 3 (ipykernel)",
   "language": "python",
   "name": "python3"
  },
  "language_info": {
   "codemirror_mode": {
    "name": "ipython",
    "version": 3
   },
   "file_extension": ".py",
   "mimetype": "text/x-python",
   "name": "python",
   "nbconvert_exporter": "python",
   "pygments_lexer": "ipython3",
   "version": "3.11.4"
  }
 },
 "nbformat": 4,
 "nbformat_minor": 5
}
