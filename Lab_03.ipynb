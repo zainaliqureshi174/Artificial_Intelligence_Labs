{
 "cells": [
  {
   "cell_type": "markdown",
   "metadata": {
    "id": "yZUfT3i7CjcU"
   },
   "source": [
    "# Lab Task 01"
   ]
  },
  {
   "cell_type": "markdown",
   "metadata": {
    "id": "cFvXKV7FCd5E"
   },
   "source": [
    "Write a function to return True if the first and last number of a given list is same. If numbers are different then return False."
   ]
  },
  {
   "cell_type": "code",
   "execution_count": 2,
   "metadata": {
    "id": "GXktR4r5Coyi"
   },
   "outputs": [
    {
     "name": "stdout",
     "output_type": "stream",
     "text": [
      "True\n",
      "False\n",
      "True\n",
      "False\n",
      "True\n"
     ]
    }
   ],
   "source": [
    "# Given:\n",
    "numbers_x = [10, 20, 30, 40, 10]\n",
    "numbers_y = [75, 65, 35, 75, 30]\n",
    "\n",
    "# Function to check if the first and last number of a given list is same\n",
    "def check_first_last(nums):\n",
    "    if len(nums) > 1:\n",
    "        return nums[0] == nums[-1]\n",
    "    else:\n",
    "        return True\n",
    "\n",
    "# Test cases\n",
    "print(check_first_last(numbers_x))\n",
    "print(check_first_last(numbers_y))\n",
    "print(check_first_last([1, 2, 3, 1]))\n",
    "print(check_first_last([1, 2, 3]))\n",
    "print(check_first_last([5]))"
   ]
  },
  {
   "cell_type": "markdown",
   "metadata": {
    "id": "UwFZ7OjICrlQ"
   },
   "source": [
    "\n",
    "\n",
    "\n",
    "\n",
    "# Lab Task 02"
   ]
  },
  {
   "cell_type": "markdown",
   "metadata": {
    "id": "GWQ2AhPcCufC"
   },
   "source": [
    "Create two NumPy arrays of the same shape and perform element-wise addition on them.\n",
    "\n",
    "Calculate the element-wise product of two NumPy arrays."
   ]
  },
  {
   "cell_type": "code",
   "execution_count": 3,
   "metadata": {
    "id": "jZNfvManCxjQ"
   },
   "outputs": [
    {
     "name": "stdout",
     "output_type": "stream",
     "text": [
      "Element-wise addition:\n",
      " [[ 8 10 12]\n",
      " [14 16 18]]\n",
      "Element-wise product:\n",
      " [[ 7 16 27]\n",
      " [40 55 72]]\n"
     ]
    }
   ],
   "source": [
    "import numpy as np\n",
    "\n",
    "# Creating two NumPy arrays of the same shape\n",
    "arr1 = np.array([[1, 2, 3], [4, 5, 6]])\n",
    "arr2 = np.array([[7, 8, 9], [10, 11, 12]])\n",
    "\n",
    "# Performing element-wise addition\n",
    "result_add = arr1 + arr2\n",
    "print(\"Element-wise addition:\\n\", result_add)\n",
    "\n",
    "# Performing element-wise product\n",
    "result_product = arr1 * arr2\n",
    "print(\"Element-wise product:\\n\", result_product)"
   ]
  },
  {
   "cell_type": "markdown",
   "metadata": {
    "id": "DR3RvooloecS"
   },
   "source": [
    "# Lab Task 03"
   ]
  },
  {
   "cell_type": "markdown",
   "metadata": {
    "id": "Oi-yFvItoWzc"
   },
   "source": [
    "Reshape a 1D NumPy array into a 2D array with dimensions (3, 4).\n",
    "\n",
    "Concatenate two NumPy arrays horizontally and vertically."
   ]
  },
  {
   "cell_type": "code",
   "execution_count": 4,
   "metadata": {
    "id": "c379PMYOobDK"
   },
   "outputs": [
    {
     "name": "stdout",
     "output_type": "stream",
     "text": [
      "Reshaped array:\n",
      " [[ 1  2  3  4]\n",
      " [ 5  6  7  8]\n",
      " [ 9 10 11 12]]\n",
      "Horizontal concatenation:\n",
      " [[ 1  2  3  7  8  9]\n",
      " [ 4  5  6 10 11 12]]\n",
      "Vertical concatenation:\n",
      " [[ 1  2  3]\n",
      " [ 4  5  6]\n",
      " [ 7  8  9]\n",
      " [10 11 12]]\n"
     ]
    }
   ],
   "source": [
    "import numpy as np\n",
    "\n",
    "# Creating a 1D array\n",
    "arr = np.array([1, 2, 3, 4, 5, 6, 7, 8, 9, 10, 11, 12])\n",
    "\n",
    "# Reshaping the array into (3, 4) dimensions\n",
    "reshaped_arr = arr.reshape(3, 4)\n",
    "print(\"Reshaped array:\\n\", reshaped_arr)\n",
    "\n",
    "# Creating two NumPy arrays\n",
    "arr1 = np.array([[1, 2, 3], [4, 5, 6]])\n",
    "arr2 = np.array([[7, 8, 9], [10, 11, 12]])\n",
    "\n",
    "# Concatenating arrays horizontally\n",
    "horizontal_concat = np.concatenate((arr1, arr2), axis=1)\n",
    "print(\"Horizontal concatenation:\\n\", horizontal_concat)\n",
    "\n",
    "# Concatenating arrays vertically\n",
    "vertical_concat = np.concatenate((arr1, arr2), axis=0)\n",
    "print(\"Vertical concatenation:\\n\", vertical_concat)"
   ]
  },
  {
   "cell_type": "markdown",
   "metadata": {
    "id": "QyAHL3cppQvA"
   },
   "source": [
    "# Lab Task 04\n",
    "\n"
   ]
  },
  {
   "cell_type": "markdown",
   "metadata": {
    "id": "n9ljQa5NopJD"
   },
   "source": [
    "\n",
    "## Online Store Shopping Cart\n",
    "Write a Python program to simulate the online store's shopping cart system. The program should use a while loop to provide an interactive shopping experience.\n",
    "\n",
    "\n",
    "### Tasks:\n",
    "* Initialize an empty list called shopping_cart to store items.\n",
    "* Display a welcome message and available products.\n",
    "* Loop should be iterating over AI Response Simulator and Investment decision and keep asking for user input.\n",
    "* Prompt the user to enter the number corresponding to the product they want to add to the cart.\n",
    "* Check if the user entered 'q'. If so, break the loop.\n",
    "* Convert the choice to an integer and validate it within the valid range (1 to 3).\n",
    "* Based on the user's choice, add the selected product to the shopping_cart list.\n",
    "* Display a confirmation message indicating the added product.\n",
    "* Continue the loop to allow the user to add more products or proceed to checkout.\n",
    "* After the loop ends, display the contents of the shopping cart.\n",
    "* Display a goodbye message.\n",
    "* End the program.\n"
   ]
  },
  {
   "cell_type": "code",
   "execution_count": 1,
   "metadata": {
    "id": "9huwf9wVpWFf"
   },
   "outputs": [
    {
     "name": "stdout",
     "output_type": "stream",
     "text": [
      "Welcome to the shopping cart program!\n",
      "1. Shirt - $20\n",
      "2. Hat - $15\n",
      "3. Mug - $10\n",
      "\n",
      "Enter the number of the product you want to add (or 'q' to quit): 2\n",
      "Hat has been added to your cart!\n",
      "\n",
      "Enter the number of the product you want to add (or 'q' to quit): 3\n",
      "Mug has been added to your cart!\n",
      "\n",
      "Enter the number of the product you want to add (or 'q' to quit): q\n",
      "\n",
      "Your shopping cart:\n",
      "- Hat - $15\n",
      "- Mug - $10\n",
      "\n",
      "Thank you for shopping! See you again soon.\n"
     ]
    }
   ],
   "source": [
    "# Initializing an empty list for the shopping cart\n",
    "shopping_cart = []\n",
    "\n",
    "# Defining available products and their prices\n",
    "products = {\n",
    "    1: {\"name\": \"Shirt\", \"price\": 20},\n",
    "    2: {\"name\": \"Hat\", \"price\": 15},\n",
    "    3: {\"name\": \"Mug\", \"price\": 10},\n",
    "}\n",
    "\n",
    "# Welcome message and product display\n",
    "print(\"Welcome to the shopping cart program!\")\n",
    "for product_id, product_info in products.items():\n",
    "    print(f\"{product_id}. {product_info['name']} - ${product_info['price']}\")\n",
    "\n",
    "# Loop for adding items to the cart\n",
    "while True:\n",
    "    # Prompting for user input\n",
    "    choice = input(\"\\nEnter the number of the product you want to add (or 'q' to quit): \")\n",
    "\n",
    "    # Checking if user wants to quit\n",
    "    if choice.lower() == 'q':\n",
    "        break\n",
    "\n",
    "    # Validating user input\n",
    "    try:\n",
    "        choice = int(choice)\n",
    "        if choice not in products:\n",
    "            print(\"Invalid choice. Please choose a number between 1 and 3.\")\n",
    "            continue\n",
    "    except ValueError:\n",
    "        print(\"Invalid input. Please enter a number or 'q'.\")\n",
    "        continue\n",
    "\n",
    "    # Adding product to cart and display confirmation\n",
    "    product_info = products[choice]\n",
    "    shopping_cart.append(product_info)\n",
    "    print(f\"{product_info['name']} has been added to your cart!\")\n",
    "\n",
    "# Displaying cart contents\n",
    "print(\"\\nYour shopping cart:\")\n",
    "for product_info in shopping_cart:\n",
    "    print(f\"- {product_info['name']} - ${product_info['price']}\")\n",
    "\n",
    "# Goodbye message\n",
    "print(\"\\nThank you for shopping! See you again soon.\")"
   ]
  },
  {
   "cell_type": "markdown",
   "metadata": {
    "id": "Dv9DtQ3jp6mq"
   },
   "source": [
    "# Lab Task 05"
   ]
  },
  {
   "cell_type": "markdown",
   "metadata": {
    "id": "2i6-zm_1ZAdn"
   },
   "source": [
    "\n",
    "## Email Classification\n",
    "Develope a tool which will classify an email.\n",
    "\n",
    "### Tasks:\n",
    "* Create a function classify_emails that takes a list of emails as an argument.\n",
    "* Inside the function, categorize emails into \"Important,\" \"Promotions,\" and \"Spam\" based on keywords and content analysis.\n",
    "* Loop through the emails and identify keywords to determine their category.\n",
    "* If an email contains keywords indicating importance, assign it as \"Important.\"\n",
    "* If an email contains keywords related to promotions or deals, assign it as \"Promotions.\"\n",
    "* If an email is suspected to be spam based on certain keywords or patterns, assign it as \"Spam.\"\n",
    "* Return three lists of emails for each category.\n",
    "* Print the lists."
   ]
  },
  {
   "cell_type": "code",
   "execution_count": 7,
   "metadata": {
    "id": "SnCGPkq-o84Z"
   },
   "outputs": [
    {
     "name": "stdout",
     "output_type": "stream",
     "text": [
      "Important emails:\n",
      "- Meeting reminder: Project X\n",
      "\n",
      "Promotional emails:\n",
      "- 50% off winter sale!\n",
      "\n",
      "Spam emails:\n",
      "- Free trial: Unlimited access to music\n"
     ]
    }
   ],
   "source": [
    "def classify_emails(emails):\n",
    "    important_emails = []\n",
    "    promotional_emails = []\n",
    "    spam_emails = []\n",
    "\n",
    "    for email in emails:\n",
    "        # Basic keyword matching\n",
    "        if \"urgent\" in email.lower() or \"important\" in email.lower() or \"meeting\" in email.lower():\n",
    "            important_emails.append(email)\n",
    "        elif \"sale\" in email.lower() or \"discount\" in email.lower() or \"promotion\" in email.lower():\n",
    "            promotional_emails.append(email)\n",
    "        elif \"unsubscribe\" in email.lower() or \"free trial\" in email.lower() or \"guarantee\" in email.lower():\n",
    "            spam_emails.append(email)\n",
    "        else:\n",
    "          # Add to default category (assuming Other)\n",
    "          pass\n",
    "\n",
    "    return important_emails, promotional_emails, spam_emails\n",
    "\n",
    "# Example usage\n",
    "emails = [\"Meeting reminder: Project X\", \"50% off winter sale!\", \"Free trial: Unlimited access to music\"]\n",
    "important_emails, promotional_emails, spam_emails = classify_emails(emails)\n",
    "\n",
    "print(\"Important emails:\")\n",
    "for email in important_emails:\n",
    "    print(\"- \" + email)\n",
    "\n",
    "print(\"\\nPromotional emails:\")\n",
    "for email in promotional_emails:\n",
    "    print(\"- \" + email)\n",
    "\n",
    "print(\"\\nSpam emails:\")\n",
    "for email in spam_emails:\n",
    "    print(\"- \" + email)"
   ]
  },
  {
   "cell_type": "markdown",
   "metadata": {
    "id": "amtV-GLWpCC7"
   },
   "source": [
    "# Lab Task 06"
   ]
  },
  {
   "cell_type": "markdown",
   "metadata": {
    "id": "M2Zg-XsUpC72"
   },
   "source": [
    "## English-Spanish Dictionary\n",
    "You are creating a basic English-Spanish dictionary that allows users to look up English words and find their Spanish translations.\n",
    "\n",
    "\n",
    "### Tasks\n",
    "* Create a dictionary where English words are keys and their Spanish translations are values.\n",
    "* Ask the user to input an English word.\n",
    "* Check if the word exists in the dictionary.\n",
    "* If the word exists, print its Spanish translation.\n",
    "* If the word does not exist, inform the user that the translation is not available.\n",
    "* Implement a loop that allows the user to keep looking up words until they choose to exit.\n"
   ]
  },
  {
   "cell_type": "code",
   "execution_count": 2,
   "metadata": {
    "id": "7RKtYbMZpJdh"
   },
   "outputs": [
    {
     "name": "stdout",
     "output_type": "stream",
     "text": [
      "Enter an English word (or 'q' to quit): book\n",
      "The Spanish translation of 'book' is 'libro'.\n",
      "Enter an English word (or 'q' to quit): q\n",
      "Goodbye!\n"
     ]
    }
   ],
   "source": [
    "# Creating a dictionary of English words and their Spanish translations\n",
    "spanish_dictionary = {\n",
    "    \"hello\": \"hola\",\n",
    "    \"goodbye\": \"adiós\",\n",
    "    \"computer\": \"ordenador\",\n",
    "    \"water\": \"agua\",\n",
    "    \"book\": \"libro\"\n",
    "}\n",
    "\n",
    "# Loop to keep looking up words until the user exits\n",
    "while True:\n",
    "    # Asking the user for an English word\n",
    "    english_word = input(\"Enter an English word (or 'q' to quit): \").lower()\n",
    "\n",
    "    # Checking if the word exists in the dictionary\n",
    "    if english_word in spanish_dictionary:\n",
    "        # Printing the Spanish translation\n",
    "        spanish_translation = spanish_dictionary[english_word]\n",
    "        print(f\"The Spanish translation of '{english_word}' is '{spanish_translation}'.\")\n",
    "    elif english_word == \"q\":\n",
    "        # If User wants to quit\n",
    "        print(\"Goodbye!\")\n",
    "        break\n",
    "    else:\n",
    "        # Word not found\n",
    "        print(f\"Sorry, the translation for '{english_word}' is not available.\")"
   ]
  },
  {
   "cell_type": "markdown",
   "metadata": {
    "id": "h_8wOMWitspv"
   },
   "source": [
    "# Lab Task 07"
   ]
  },
  {
   "cell_type": "markdown",
   "metadata": {
    "id": "Qq4VH1Jkts32"
   },
   "source": [
    "dataset link : https://raw.githubusercontent.com/TirendazAcademy/PANDAS-TUTORIAL/main/DataSets/vgsalesGlobale.csv\n",
    "#Exercise\n",
    "Use the dataset of Game, we have explored earlier and perform following operations.\n",
    "\n",
    "* Calculate the total global sales for all games in the dataset.\n",
    "* Find the game with the highest global sales.\n",
    "* Determine the average sales for each region (NA_Sales, EU_Sales, JP_Sales, Other_Sales).\n",
    "* Find the top 5 most popular game genres based on global sales.\n",
    "* Calculate the total sales for each genre in each region and find the most popular genre in North America (NA_Sales).\n",
    "* Display last 10 rows.\n",
    "* Determine the top 3 gaming platforms with the highest global sales.\n",
    "* Calculate the market share (percentage of global sales) for each genre.\n",
    "* Calculate the correlation coefficient between NA_Sales and EU_Sales. (.corr function)"
   ]
  },
  {
   "cell_type": "code",
   "execution_count": 3,
   "metadata": {},
   "outputs": [
    {
     "name": "stdout",
     "output_type": "stream",
     "text": [
      "--2024-02-07 15:37:41--  https://raw.githubusercontent.com/TirendazAcademy/PANDAS-TUTORIAL/main/DataSets/vgsalesGlobale.csv\n",
      "Resolving raw.githubusercontent.com (raw.githubusercontent.com)... 185.199.108.133, 185.199.110.133, 185.199.111.133, ...\n",
      "Connecting to raw.githubusercontent.com (raw.githubusercontent.com)|185.199.108.133|:443... connected.\n",
      "HTTP request sent, awaiting response... 200 OK\n",
      "Length: 1355781 (1.3M) [text/plain]\n",
      "Saving to: ‘vgsalesGlobale.csv’\n",
      "\n",
      "vgsalesGlobale.csv  100%[===================>]   1.29M  31.6KB/s    in 31s     \n",
      "\n",
      "2024-02-07 15:38:13 (42.4 KB/s) - ‘vgsalesGlobale.csv’ saved [1355781/1355781]\n",
      "\n"
     ]
    }
   ],
   "source": [
    "#  importing wget\n",
    "import wget\n",
    "!wget https://raw.githubusercontent.com/TirendazAcademy/PANDAS-TUTORIAL/main/DataSets/vgsalesGlobale.csv"
   ]
  },
  {
   "cell_type": "code",
   "execution_count": 4,
   "metadata": {},
   "outputs": [],
   "source": [
    "import pandas as pd"
   ]
  },
  {
   "cell_type": "code",
   "execution_count": 7,
   "metadata": {},
   "outputs": [],
   "source": [
    "csvfile = \"vgsalesGlobale.csv\"\n",
    "df = pd.read_csv(csvfile, index_col=\"Rank\")"
   ]
  },
  {
   "cell_type": "code",
   "execution_count": 8,
   "metadata": {},
   "outputs": [
    {
     "data": {
      "text/html": [
       "<div>\n",
       "<style scoped>\n",
       "    .dataframe tbody tr th:only-of-type {\n",
       "        vertical-align: middle;\n",
       "    }\n",
       "\n",
       "    .dataframe tbody tr th {\n",
       "        vertical-align: top;\n",
       "    }\n",
       "\n",
       "    .dataframe thead th {\n",
       "        text-align: right;\n",
       "    }\n",
       "</style>\n",
       "<table border=\"1\" class=\"dataframe\">\n",
       "  <thead>\n",
       "    <tr style=\"text-align: right;\">\n",
       "      <th></th>\n",
       "      <th>Name</th>\n",
       "      <th>Platform</th>\n",
       "      <th>Year</th>\n",
       "      <th>Genre</th>\n",
       "      <th>Publisher</th>\n",
       "      <th>NA_Sales</th>\n",
       "      <th>EU_Sales</th>\n",
       "      <th>JP_Sales</th>\n",
       "      <th>Other_Sales</th>\n",
       "      <th>Global_Sales</th>\n",
       "    </tr>\n",
       "    <tr>\n",
       "      <th>Rank</th>\n",
       "      <th></th>\n",
       "      <th></th>\n",
       "      <th></th>\n",
       "      <th></th>\n",
       "      <th></th>\n",
       "      <th></th>\n",
       "      <th></th>\n",
       "      <th></th>\n",
       "      <th></th>\n",
       "      <th></th>\n",
       "    </tr>\n",
       "  </thead>\n",
       "  <tbody>\n",
       "    <tr>\n",
       "      <th>1</th>\n",
       "      <td>Wii Sports</td>\n",
       "      <td>Wii</td>\n",
       "      <td>2006.0</td>\n",
       "      <td>Sports</td>\n",
       "      <td>Nintendo</td>\n",
       "      <td>41.49</td>\n",
       "      <td>29.02</td>\n",
       "      <td>3.77</td>\n",
       "      <td>8.46</td>\n",
       "      <td>82.74</td>\n",
       "    </tr>\n",
       "    <tr>\n",
       "      <th>2</th>\n",
       "      <td>Super Mario Bros.</td>\n",
       "      <td>NES</td>\n",
       "      <td>1985.0</td>\n",
       "      <td>Platform</td>\n",
       "      <td>Nintendo</td>\n",
       "      <td>29.08</td>\n",
       "      <td>3.58</td>\n",
       "      <td>6.81</td>\n",
       "      <td>0.77</td>\n",
       "      <td>40.24</td>\n",
       "    </tr>\n",
       "    <tr>\n",
       "      <th>3</th>\n",
       "      <td>Mario Kart Wii</td>\n",
       "      <td>Wii</td>\n",
       "      <td>2008.0</td>\n",
       "      <td>Racing</td>\n",
       "      <td>Nintendo</td>\n",
       "      <td>15.85</td>\n",
       "      <td>12.88</td>\n",
       "      <td>3.79</td>\n",
       "      <td>3.31</td>\n",
       "      <td>35.82</td>\n",
       "    </tr>\n",
       "    <tr>\n",
       "      <th>4</th>\n",
       "      <td>Wii Sports Resort</td>\n",
       "      <td>Wii</td>\n",
       "      <td>2009.0</td>\n",
       "      <td>Sports</td>\n",
       "      <td>Nintendo</td>\n",
       "      <td>15.75</td>\n",
       "      <td>11.01</td>\n",
       "      <td>3.28</td>\n",
       "      <td>2.96</td>\n",
       "      <td>33.00</td>\n",
       "    </tr>\n",
       "    <tr>\n",
       "      <th>5</th>\n",
       "      <td>Pokemon Red/Pokemon Blue</td>\n",
       "      <td>GB</td>\n",
       "      <td>1996.0</td>\n",
       "      <td>Role-Playing</td>\n",
       "      <td>Nintendo</td>\n",
       "      <td>11.27</td>\n",
       "      <td>8.89</td>\n",
       "      <td>10.22</td>\n",
       "      <td>1.00</td>\n",
       "      <td>31.37</td>\n",
       "    </tr>\n",
       "    <tr>\n",
       "      <th>...</th>\n",
       "      <td>...</td>\n",
       "      <td>...</td>\n",
       "      <td>...</td>\n",
       "      <td>...</td>\n",
       "      <td>...</td>\n",
       "      <td>...</td>\n",
       "      <td>...</td>\n",
       "      <td>...</td>\n",
       "      <td>...</td>\n",
       "      <td>...</td>\n",
       "    </tr>\n",
       "    <tr>\n",
       "      <th>16596</th>\n",
       "      <td>Woody Woodpecker in Crazy Castle 5</td>\n",
       "      <td>GBA</td>\n",
       "      <td>2002.0</td>\n",
       "      <td>Platform</td>\n",
       "      <td>Kemco</td>\n",
       "      <td>0.01</td>\n",
       "      <td>0.00</td>\n",
       "      <td>0.00</td>\n",
       "      <td>0.00</td>\n",
       "      <td>0.01</td>\n",
       "    </tr>\n",
       "    <tr>\n",
       "      <th>16597</th>\n",
       "      <td>Men in Black II: Alien Escape</td>\n",
       "      <td>GC</td>\n",
       "      <td>2003.0</td>\n",
       "      <td>Shooter</td>\n",
       "      <td>Infogrames</td>\n",
       "      <td>0.01</td>\n",
       "      <td>0.00</td>\n",
       "      <td>0.00</td>\n",
       "      <td>0.00</td>\n",
       "      <td>0.01</td>\n",
       "    </tr>\n",
       "    <tr>\n",
       "      <th>16598</th>\n",
       "      <td>SCORE International Baja 1000: The Official Game</td>\n",
       "      <td>PS2</td>\n",
       "      <td>2008.0</td>\n",
       "      <td>Racing</td>\n",
       "      <td>Activision</td>\n",
       "      <td>0.00</td>\n",
       "      <td>0.00</td>\n",
       "      <td>0.00</td>\n",
       "      <td>0.00</td>\n",
       "      <td>0.01</td>\n",
       "    </tr>\n",
       "    <tr>\n",
       "      <th>16599</th>\n",
       "      <td>Know How 2</td>\n",
       "      <td>DS</td>\n",
       "      <td>2010.0</td>\n",
       "      <td>Puzzle</td>\n",
       "      <td>7G//AMES</td>\n",
       "      <td>0.00</td>\n",
       "      <td>0.01</td>\n",
       "      <td>0.00</td>\n",
       "      <td>0.00</td>\n",
       "      <td>0.01</td>\n",
       "    </tr>\n",
       "    <tr>\n",
       "      <th>16600</th>\n",
       "      <td>Spirits &amp; Spells</td>\n",
       "      <td>GBA</td>\n",
       "      <td>2003.0</td>\n",
       "      <td>Platform</td>\n",
       "      <td>Wanadoo</td>\n",
       "      <td>0.01</td>\n",
       "      <td>0.00</td>\n",
       "      <td>0.00</td>\n",
       "      <td>0.00</td>\n",
       "      <td>0.01</td>\n",
       "    </tr>\n",
       "  </tbody>\n",
       "</table>\n",
       "<p>16598 rows × 10 columns</p>\n",
       "</div>"
      ],
      "text/plain": [
       "                                                   Name Platform    Year  \\\n",
       "Rank                                                                       \n",
       "1                                            Wii Sports      Wii  2006.0   \n",
       "2                                     Super Mario Bros.      NES  1985.0   \n",
       "3                                        Mario Kart Wii      Wii  2008.0   \n",
       "4                                     Wii Sports Resort      Wii  2009.0   \n",
       "5                              Pokemon Red/Pokemon Blue       GB  1996.0   \n",
       "...                                                 ...      ...     ...   \n",
       "16596                Woody Woodpecker in Crazy Castle 5      GBA  2002.0   \n",
       "16597                     Men in Black II: Alien Escape       GC  2003.0   \n",
       "16598  SCORE International Baja 1000: The Official Game      PS2  2008.0   \n",
       "16599                                        Know How 2       DS  2010.0   \n",
       "16600                                  Spirits & Spells      GBA  2003.0   \n",
       "\n",
       "              Genre   Publisher  NA_Sales  EU_Sales  JP_Sales  Other_Sales  \\\n",
       "Rank                                                                         \n",
       "1            Sports    Nintendo     41.49     29.02      3.77         8.46   \n",
       "2          Platform    Nintendo     29.08      3.58      6.81         0.77   \n",
       "3            Racing    Nintendo     15.85     12.88      3.79         3.31   \n",
       "4            Sports    Nintendo     15.75     11.01      3.28         2.96   \n",
       "5      Role-Playing    Nintendo     11.27      8.89     10.22         1.00   \n",
       "...             ...         ...       ...       ...       ...          ...   \n",
       "16596      Platform       Kemco      0.01      0.00      0.00         0.00   \n",
       "16597       Shooter  Infogrames      0.01      0.00      0.00         0.00   \n",
       "16598        Racing  Activision      0.00      0.00      0.00         0.00   \n",
       "16599        Puzzle    7G//AMES      0.00      0.01      0.00         0.00   \n",
       "16600      Platform     Wanadoo      0.01      0.00      0.00         0.00   \n",
       "\n",
       "       Global_Sales  \n",
       "Rank                 \n",
       "1             82.74  \n",
       "2             40.24  \n",
       "3             35.82  \n",
       "4             33.00  \n",
       "5             31.37  \n",
       "...             ...  \n",
       "16596          0.01  \n",
       "16597          0.01  \n",
       "16598          0.01  \n",
       "16599          0.01  \n",
       "16600          0.01  \n",
       "\n",
       "[16598 rows x 10 columns]"
      ]
     },
     "execution_count": 8,
     "metadata": {},
     "output_type": "execute_result"
    }
   ],
   "source": [
    "df"
   ]
  },
  {
   "cell_type": "code",
   "execution_count": 14,
   "metadata": {},
   "outputs": [
    {
     "name": "stdout",
     "output_type": "stream",
     "text": [
      "Total global sales for all games in the dataset is 8920.44.\n"
     ]
    }
   ],
   "source": [
    "Total_Global_Sales = df['Global_Sales'].sum()\n",
    "print(f\"Total global sales for all games in the dataset is {Total_Global_Sales}.\")"
   ]
  },
  {
   "cell_type": "code",
   "execution_count": 15,
   "metadata": {},
   "outputs": [
    {
     "name": "stdout",
     "output_type": "stream",
     "text": [
      "The game with the highest global sales is 82.74.\n"
     ]
    }
   ],
   "source": [
    "Highest = df['Global_Sales'].max()\n",
    "print(f\"The game with the highest global sales is {Highest}.\")"
   ]
  },
  {
   "cell_type": "code",
   "execution_count": 18,
   "metadata": {},
   "outputs": [
    {
     "name": "stdout",
     "output_type": "stream",
     "text": [
      "The average sales for NA_Sales is 0.26.\n",
      "The average sales for EU_Sales is 0.15.\n",
      "The average sales for JP_Sales is 0.08.\n",
      "The average sales for Other_Sales is 0.05.\n"
     ]
    }
   ],
   "source": [
    "Avg1 = df['NA_Sales'].mean()\n",
    "Avg2 = df['EU_Sales'].mean()\n",
    "Avg3 = df['JP_Sales'].mean()\n",
    "Avg4 = df['Other_Sales'].mean()\n",
    "\n",
    "print(f\"The average sales for NA_Sales is {round(Avg1, 2)}.\")\n",
    "print(f\"The average sales for EU_Sales is {round(Avg2, 2)}.\")\n",
    "print(f\"The average sales for JP_Sales is {round(Avg3, 2)}.\")\n",
    "print(f\"The average sales for Other_Sales is {round(Avg4, 2)}.\")"
   ]
  },
  {
   "cell_type": "code",
   "execution_count": 32,
   "metadata": {},
   "outputs": [
    {
     "name": "stdout",
     "output_type": "stream",
     "text": [
      "Top 5 most popular game genres based on global sales:\n",
      "* Action: 1751.18\n",
      "* Sports: 1330.93\n",
      "* Shooter: 1037.37\n",
      "* Role-Playing: 927.37\n",
      "* Platform: 831.37\n"
     ]
    }
   ],
   "source": [
    "genre_sales = df.groupby(\"Genre\")[\"Global_Sales\"].sum()\n",
    "\n",
    "# Sorting genres by total sales in descending order\n",
    "genre_sales_sorted = genre_sales.sort_values(ascending=False)\n",
    "\n",
    "# Selecting the top 5 most popular genres\n",
    "top_5_genres = genre_sales_sorted.head(5)\n",
    "\n",
    "# Printing the results\n",
    "print(\"Top 5 most popular game genres based on global sales:\")\n",
    "for genre, total_sales in top_5_genres.items():\n",
    "    print(f\"* {genre}: {total_sales:.2f}\")"
   ]
  },
  {
   "cell_type": "code",
   "execution_count": 33,
   "metadata": {},
   "outputs": [
    {
     "data": {
      "text/html": [
       "<div>\n",
       "<style scoped>\n",
       "    .dataframe tbody tr th:only-of-type {\n",
       "        vertical-align: middle;\n",
       "    }\n",
       "\n",
       "    .dataframe tbody tr th {\n",
       "        vertical-align: top;\n",
       "    }\n",
       "\n",
       "    .dataframe thead th {\n",
       "        text-align: right;\n",
       "    }\n",
       "</style>\n",
       "<table border=\"1\" class=\"dataframe\">\n",
       "  <thead>\n",
       "    <tr style=\"text-align: right;\">\n",
       "      <th></th>\n",
       "      <th>Name</th>\n",
       "      <th>Platform</th>\n",
       "      <th>Year</th>\n",
       "      <th>Genre</th>\n",
       "      <th>Publisher</th>\n",
       "      <th>NA_Sales</th>\n",
       "      <th>EU_Sales</th>\n",
       "      <th>JP_Sales</th>\n",
       "      <th>Other_Sales</th>\n",
       "      <th>Global_Sales</th>\n",
       "    </tr>\n",
       "    <tr>\n",
       "      <th>Rank</th>\n",
       "      <th></th>\n",
       "      <th></th>\n",
       "      <th></th>\n",
       "      <th></th>\n",
       "      <th></th>\n",
       "      <th></th>\n",
       "      <th></th>\n",
       "      <th></th>\n",
       "      <th></th>\n",
       "      <th></th>\n",
       "    </tr>\n",
       "  </thead>\n",
       "  <tbody>\n",
       "    <tr>\n",
       "      <th>16591</th>\n",
       "      <td>Mega Brain Boost</td>\n",
       "      <td>DS</td>\n",
       "      <td>2008.0</td>\n",
       "      <td>Puzzle</td>\n",
       "      <td>Majesco Entertainment</td>\n",
       "      <td>0.01</td>\n",
       "      <td>0.00</td>\n",
       "      <td>0.00</td>\n",
       "      <td>0.0</td>\n",
       "      <td>0.01</td>\n",
       "    </tr>\n",
       "    <tr>\n",
       "      <th>16592</th>\n",
       "      <td>Chou Ezaru wa Akai Hana: Koi wa Tsuki ni Shiru...</td>\n",
       "      <td>PSV</td>\n",
       "      <td>2016.0</td>\n",
       "      <td>Action</td>\n",
       "      <td>dramatic create</td>\n",
       "      <td>0.00</td>\n",
       "      <td>0.00</td>\n",
       "      <td>0.01</td>\n",
       "      <td>0.0</td>\n",
       "      <td>0.01</td>\n",
       "    </tr>\n",
       "    <tr>\n",
       "      <th>16593</th>\n",
       "      <td>Eiyuu Densetsu: Sora no Kiseki Material Collec...</td>\n",
       "      <td>PSP</td>\n",
       "      <td>2007.0</td>\n",
       "      <td>Role-Playing</td>\n",
       "      <td>Falcom Corporation</td>\n",
       "      <td>0.00</td>\n",
       "      <td>0.00</td>\n",
       "      <td>0.01</td>\n",
       "      <td>0.0</td>\n",
       "      <td>0.01</td>\n",
       "    </tr>\n",
       "    <tr>\n",
       "      <th>16594</th>\n",
       "      <td>Myst IV: Revelation</td>\n",
       "      <td>PC</td>\n",
       "      <td>2004.0</td>\n",
       "      <td>Adventure</td>\n",
       "      <td>Ubisoft</td>\n",
       "      <td>0.01</td>\n",
       "      <td>0.00</td>\n",
       "      <td>0.00</td>\n",
       "      <td>0.0</td>\n",
       "      <td>0.01</td>\n",
       "    </tr>\n",
       "    <tr>\n",
       "      <th>16595</th>\n",
       "      <td>Plushees</td>\n",
       "      <td>DS</td>\n",
       "      <td>2008.0</td>\n",
       "      <td>Simulation</td>\n",
       "      <td>Destineer</td>\n",
       "      <td>0.01</td>\n",
       "      <td>0.00</td>\n",
       "      <td>0.00</td>\n",
       "      <td>0.0</td>\n",
       "      <td>0.01</td>\n",
       "    </tr>\n",
       "    <tr>\n",
       "      <th>16596</th>\n",
       "      <td>Woody Woodpecker in Crazy Castle 5</td>\n",
       "      <td>GBA</td>\n",
       "      <td>2002.0</td>\n",
       "      <td>Platform</td>\n",
       "      <td>Kemco</td>\n",
       "      <td>0.01</td>\n",
       "      <td>0.00</td>\n",
       "      <td>0.00</td>\n",
       "      <td>0.0</td>\n",
       "      <td>0.01</td>\n",
       "    </tr>\n",
       "    <tr>\n",
       "      <th>16597</th>\n",
       "      <td>Men in Black II: Alien Escape</td>\n",
       "      <td>GC</td>\n",
       "      <td>2003.0</td>\n",
       "      <td>Shooter</td>\n",
       "      <td>Infogrames</td>\n",
       "      <td>0.01</td>\n",
       "      <td>0.00</td>\n",
       "      <td>0.00</td>\n",
       "      <td>0.0</td>\n",
       "      <td>0.01</td>\n",
       "    </tr>\n",
       "    <tr>\n",
       "      <th>16598</th>\n",
       "      <td>SCORE International Baja 1000: The Official Game</td>\n",
       "      <td>PS2</td>\n",
       "      <td>2008.0</td>\n",
       "      <td>Racing</td>\n",
       "      <td>Activision</td>\n",
       "      <td>0.00</td>\n",
       "      <td>0.00</td>\n",
       "      <td>0.00</td>\n",
       "      <td>0.0</td>\n",
       "      <td>0.01</td>\n",
       "    </tr>\n",
       "    <tr>\n",
       "      <th>16599</th>\n",
       "      <td>Know How 2</td>\n",
       "      <td>DS</td>\n",
       "      <td>2010.0</td>\n",
       "      <td>Puzzle</td>\n",
       "      <td>7G//AMES</td>\n",
       "      <td>0.00</td>\n",
       "      <td>0.01</td>\n",
       "      <td>0.00</td>\n",
       "      <td>0.0</td>\n",
       "      <td>0.01</td>\n",
       "    </tr>\n",
       "    <tr>\n",
       "      <th>16600</th>\n",
       "      <td>Spirits &amp; Spells</td>\n",
       "      <td>GBA</td>\n",
       "      <td>2003.0</td>\n",
       "      <td>Platform</td>\n",
       "      <td>Wanadoo</td>\n",
       "      <td>0.01</td>\n",
       "      <td>0.00</td>\n",
       "      <td>0.00</td>\n",
       "      <td>0.0</td>\n",
       "      <td>0.01</td>\n",
       "    </tr>\n",
       "  </tbody>\n",
       "</table>\n",
       "</div>"
      ],
      "text/plain": [
       "                                                    Name Platform    Year  \\\n",
       "Rank                                                                        \n",
       "16591                                   Mega Brain Boost       DS  2008.0   \n",
       "16592  Chou Ezaru wa Akai Hana: Koi wa Tsuki ni Shiru...      PSV  2016.0   \n",
       "16593  Eiyuu Densetsu: Sora no Kiseki Material Collec...      PSP  2007.0   \n",
       "16594                                Myst IV: Revelation       PC  2004.0   \n",
       "16595                                           Plushees       DS  2008.0   \n",
       "16596                 Woody Woodpecker in Crazy Castle 5      GBA  2002.0   \n",
       "16597                      Men in Black II: Alien Escape       GC  2003.0   \n",
       "16598   SCORE International Baja 1000: The Official Game      PS2  2008.0   \n",
       "16599                                         Know How 2       DS  2010.0   \n",
       "16600                                   Spirits & Spells      GBA  2003.0   \n",
       "\n",
       "              Genre              Publisher  NA_Sales  EU_Sales  JP_Sales  \\\n",
       "Rank                                                                       \n",
       "16591        Puzzle  Majesco Entertainment      0.01      0.00      0.00   \n",
       "16592        Action        dramatic create      0.00      0.00      0.01   \n",
       "16593  Role-Playing     Falcom Corporation      0.00      0.00      0.01   \n",
       "16594     Adventure                Ubisoft      0.01      0.00      0.00   \n",
       "16595    Simulation              Destineer      0.01      0.00      0.00   \n",
       "16596      Platform                  Kemco      0.01      0.00      0.00   \n",
       "16597       Shooter             Infogrames      0.01      0.00      0.00   \n",
       "16598        Racing             Activision      0.00      0.00      0.00   \n",
       "16599        Puzzle               7G//AMES      0.00      0.01      0.00   \n",
       "16600      Platform                Wanadoo      0.01      0.00      0.00   \n",
       "\n",
       "       Other_Sales  Global_Sales  \n",
       "Rank                              \n",
       "16591          0.0          0.01  \n",
       "16592          0.0          0.01  \n",
       "16593          0.0          0.01  \n",
       "16594          0.0          0.01  \n",
       "16595          0.0          0.01  \n",
       "16596          0.0          0.01  \n",
       "16597          0.0          0.01  \n",
       "16598          0.0          0.01  \n",
       "16599          0.0          0.01  \n",
       "16600          0.0          0.01  "
      ]
     },
     "execution_count": 33,
     "metadata": {},
     "output_type": "execute_result"
    }
   ],
   "source": [
    "df.tail(10)"
   ]
  },
  {
   "cell_type": "code",
   "execution_count": 35,
   "metadata": {},
   "outputs": [
    {
     "name": "stdout",
     "output_type": "stream",
     "text": [
      "Top 3 platforms with highest global sales:\n",
      "* PS2: 1255.64\n",
      "* X360: 979.96\n",
      "* PS3: 957.84\n"
     ]
    }
   ],
   "source": [
    "# Group by platform and sum global sales\n",
    "platform_sales = df.groupby(\"Platform\")[\"Global_Sales\"].sum()\n",
    "\n",
    "# Sorting platforms by descending global sales\n",
    "top_3_platforms = platform_sales.sort_values(ascending=False).head(3)\n",
    "\n",
    "# Printing the results\n",
    "print(\"Top 3 platforms with highest global sales:\")\n",
    "for platform, total_sales in top_3_platforms.items():\n",
    "    print(f\"* {platform}: {total_sales:.2f}\")"
   ]
  },
  {
   "cell_type": "code",
   "execution_count": 37,
   "metadata": {},
   "outputs": [
    {
     "name": "stdout",
     "output_type": "stream",
     "text": [
      "Market share (percentage of global sales) for each genre:\n",
      "* Action: 19.63%\n",
      "* Adventure: 2.68%\n",
      "* Fighting: 5.03%\n",
      "* Misc: 9.08%\n",
      "* Platform: 9.32%\n",
      "* Puzzle: 2.75%\n",
      "* Racing: 8.21%\n",
      "* Role-Playing: 10.40%\n",
      "* Shooter: 11.63%\n",
      "* Simulation: 4.40%\n",
      "* Sports: 14.92%\n",
      "* Strategy: 1.96%\n"
     ]
    }
   ],
   "source": [
    "# Calculating total global sales\n",
    "total_sales = df[\"Global_Sales\"].sum()\n",
    "\n",
    "# Calculating market share for each genre\n",
    "genre_market_share = (df.groupby(\"Genre\")[\"Global_Sales\"].sum() / total_sales) * 100\n",
    "\n",
    "# Printing the results\n",
    "print(\"Market share (percentage of global sales) for each genre:\")\n",
    "for genre, market_share in genre_market_share.items():\n",
    "    print(f\"* {genre}: {market_share:.2f}%\")"
   ]
  },
  {
   "cell_type": "code",
   "execution_count": 39,
   "metadata": {},
   "outputs": [
    {
     "name": "stdout",
     "output_type": "stream",
     "text": [
      "Correlation coefficient between NA_Sales and EU_Sales: 0.77\n"
     ]
    }
   ],
   "source": [
    "# Calculating the correlation coefficient\n",
    "correlation = df[\"NA_Sales\"].corr(df[\"EU_Sales\"])\n",
    "\n",
    "# Printing the result\n",
    "print(\"Correlation coefficient between NA_Sales and EU_Sales:\", round(correlation, 2))"
   ]
  }
 ],
 "metadata": {
  "colab": {
   "provenance": []
  },
  "kernelspec": {
   "display_name": "Python 3 (ipykernel)",
   "language": "python",
   "name": "python3"
  },
  "language_info": {
   "codemirror_mode": {
    "name": "ipython",
    "version": 3
   },
   "file_extension": ".py",
   "mimetype": "text/x-python",
   "name": "python",
   "nbconvert_exporter": "python",
   "pygments_lexer": "ipython3",
   "version": "3.11.4"
  }
 },
 "nbformat": 4,
 "nbformat_minor": 1
}
