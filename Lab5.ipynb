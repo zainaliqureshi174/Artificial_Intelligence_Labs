{
 "cells": [
  {
   "cell_type": "markdown",
   "id": "c326d9b2",
   "metadata": {},
   "source": [
    "# BFS-DFS"
   ]
  },
  {
   "cell_type": "code",
   "execution_count": 2,
   "id": "ec17c00e",
   "metadata": {},
   "outputs": [],
   "source": [
    "# Maze Graph\n",
    "Graph = {\n",
    "    'A':['S'],\n",
    "    'B':['C','S','D'],\n",
    "    'C':['B','J'],\n",
    "    'D':['S','B','G'],\n",
    "    'E':['S','G'],\n",
    "    'F':['G','H'],\n",
    "    'G':['F','E','D','H','J'],\n",
    "    'H':['F','G','I'],\n",
    "    'I':['H','J'],\n",
    "    'J':['I','G','C'],\n",
    "    'S':['A','B','E','D']\n",
    "}"
   ]
  },
  {
   "cell_type": "code",
   "execution_count": 8,
   "id": "7988f97b",
   "metadata": {},
   "outputs": [
    {
     "ename": "ModuleNotFoundError",
     "evalue": "No module named 'stack'",
     "output_type": "error",
     "traceback": [
      "\u001b[0;31m---------------------------------------------------------------------------\u001b[0m",
      "\u001b[0;31mModuleNotFoundError\u001b[0m                       Traceback (most recent call last)",
      "Cell \u001b[0;32mIn[8], line 1\u001b[0m\n\u001b[0;32m----> 1\u001b[0m \u001b[38;5;28;01mimport\u001b[39;00m \u001b[38;5;21;01mstack\u001b[39;00m\n\u001b[1;32m      2\u001b[0m \u001b[38;5;66;03m# Queue Class\u001b[39;00m\n\u001b[1;32m      3\u001b[0m \u001b[38;5;28;01mclass\u001b[39;00m \u001b[38;5;21;01mQueue\u001b[39;00m:\n",
      "\u001b[0;31mModuleNotFoundError\u001b[0m: No module named 'stack'"
     ]
    }
   ],
   "source": [
    "import stack\n",
    "# Queue Class\n",
    "class Queue:\n",
    "    def __init__(self):\n",
    "        self.queue = []\n",
    "\n",
    "    def enqueue(self, item):\n",
    "        self.queue.append(item)\n",
    "\n",
    "    def dequeue(self):\n",
    "        if not self.is_empty():\n",
    "            return self.queue.pop(0)\n",
    "\n",
    "    def is_empty(self):\n",
    "        return len(self.queue) == 0"
   ]
  },
  {
   "cell_type": "markdown",
   "id": "eb43dd25",
   "metadata": {},
   "source": [
    "### BFS "
   ]
  },
  {
   "cell_type": "code",
   "execution_count": 4,
   "id": "1b170c5c",
   "metadata": {},
   "outputs": [
    {
     "name": "stdout",
     "output_type": "stream",
     "text": [
      "Path found: S -> B -> C -> J -> I\n"
     ]
    }
   ],
   "source": [
    "def bfs(graph, start, end):\n",
    "    visited = []\n",
    "    queue = Queue()\n",
    "    queue.enqueue([start])\n",
    "    \n",
    "    while not queue.is_empty():\n",
    "        path = queue.dequeue()\n",
    "        node = path[-1]\n",
    "        if node == end:\n",
    "            return path\n",
    "        if node not in visited:\n",
    "            visited.append(node)\n",
    "            for neighbor in graph[node]:\n",
    "                new_path = list(path)\n",
    "                new_path.append(neighbor)\n",
    "                queue.enqueue(new_path)\n",
    "    \n",
    "    return None\n",
    "\n",
    "start_node = 'S'\n",
    "end_node = 'I'\n",
    "path = bfs(Graph, start_node, end_node)\n",
    "\n",
    "if path:\n",
    "    print(\"Path found:\", ' -> '.join(path))\n",
    "else:\n",
    "    print(\"Path not found\")"
   ]
  },
  {
   "cell_type": "markdown",
   "id": "a4b33c11",
   "metadata": {},
   "source": [
    "### DFS"
   ]
  },
  {
   "cell_type": "code",
   "execution_count": 7,
   "id": "9098d572",
   "metadata": {},
   "outputs": [
    {
     "ename": "NameError",
     "evalue": "name 'stack' is not defined",
     "output_type": "error",
     "traceback": [
      "\u001b[0;31m---------------------------------------------------------------------------\u001b[0m",
      "\u001b[0;31mNameError\u001b[0m                                 Traceback (most recent call last)",
      "Cell \u001b[0;32mIn[7], line 25\u001b[0m\n\u001b[1;32m     23\u001b[0m start_node \u001b[38;5;241m=\u001b[39m \u001b[38;5;124m'\u001b[39m\u001b[38;5;124mS\u001b[39m\u001b[38;5;124m'\u001b[39m\n\u001b[1;32m     24\u001b[0m end_node \u001b[38;5;241m=\u001b[39m \u001b[38;5;124m'\u001b[39m\u001b[38;5;124mI\u001b[39m\u001b[38;5;124m'\u001b[39m\n\u001b[0;32m---> 25\u001b[0m path \u001b[38;5;241m=\u001b[39m dfs(Graph, start_node, end_node)\n\u001b[1;32m     27\u001b[0m \u001b[38;5;28;01mif\u001b[39;00m path:\n\u001b[1;32m     28\u001b[0m     \u001b[38;5;28mprint\u001b[39m(\u001b[38;5;124m\"\u001b[39m\u001b[38;5;124mPath found:\u001b[39m\u001b[38;5;124m\"\u001b[39m, \u001b[38;5;124m'\u001b[39m\u001b[38;5;124m -> \u001b[39m\u001b[38;5;124m'\u001b[39m\u001b[38;5;241m.\u001b[39mjoin(path))\n",
      "Cell \u001b[0;32mIn[7], line 6\u001b[0m, in \u001b[0;36mdfs\u001b[0;34m(graph, start, end)\u001b[0m\n\u001b[1;32m      4\u001b[0m \u001b[38;5;28;01mdef\u001b[39;00m \u001b[38;5;21mdfs\u001b[39m(graph, start, end):\n\u001b[1;32m      5\u001b[0m     visited \u001b[38;5;241m=\u001b[39m []\n\u001b[0;32m----> 6\u001b[0m     Q \u001b[38;5;241m=\u001b[39m stack()\n\u001b[1;32m      7\u001b[0m     Q\u001b[38;5;241m.\u001b[39menqueue([start])\n\u001b[1;32m      9\u001b[0m     \u001b[38;5;28;01mwhile\u001b[39;00m \u001b[38;5;129;01mnot\u001b[39;00m Q\u001b[38;5;241m.\u001b[39mis_empty():\n",
      "\u001b[0;31mNameError\u001b[0m: name 'stack' is not defined"
     ]
    }
   ],
   "source": [
    "# Wrong:\n",
    "\n",
    "\n",
    "def dfs(graph, start, end):\n",
    "    visited = []\n",
    "    Q = stack()\n",
    "    Q.enqueue([start])\n",
    "\n",
    "    while not Q.is_empty():\n",
    "        path = Q.dequeue()\n",
    "        node = path[-1]\n",
    "        if node not in visited:\n",
    "            if node == end:\n",
    "                return path\n",
    "            visited.append(node)\n",
    "            for neighbor in graph[node]:\n",
    "                new_path = list(path)\n",
    "                new_path.append(neighbor)\n",
    "                Q.enqueue(new_path)\n",
    "\n",
    "    return None\n",
    "\n",
    "start_node = 'S'\n",
    "end_node = 'I'\n",
    "path = dfs(Graph, start_node, end_node)\n",
    "\n",
    "if path:\n",
    "    print(\"Path found:\", ' -> '.join(path))\n",
    "else:\n",
    "    print(\"Path not found\")\n"
   ]
  },
  {
   "cell_type": "code",
   "execution_count": null,
   "id": "da9b5684",
   "metadata": {},
   "outputs": [],
   "source": []
  },
  {
   "cell_type": "code",
   "execution_count": null,
   "id": "022f9e75",
   "metadata": {},
   "outputs": [],
   "source": []
  }
 ],
 "metadata": {
  "kernelspec": {
   "display_name": "Python 3 (ipykernel)",
   "language": "python",
   "name": "python3"
  },
  "language_info": {
   "codemirror_mode": {
    "name": "ipython",
    "version": 3
   },
   "file_extension": ".py",
   "mimetype": "text/x-python",
   "name": "python",
   "nbconvert_exporter": "python",
   "pygments_lexer": "ipython3",
   "version": "3.11.4"
  }
 },
 "nbformat": 4,
 "nbformat_minor": 5
}
